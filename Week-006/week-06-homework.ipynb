{
 "cells": [
  {
   "cell_type": "markdown",
   "metadata": {},
   "source": [
    "<div style=\"background: #000;\n",
    "            color: #FFF;\n",
    "            margin: 0px;\n",
    "                padding: 10px 0px 20px 0px;\n",
    "            text-align: center; \n",
    "                \">\n",
    "    <h1>Week 6 - Homework</h1>\n",
    "</div>\n",
    "\n",
    "<pre style=\"text-align:center;\">\n",
    "Exercise 1 is due Monday 10/25\n",
    "Exercise 2 is due Tuesday 10/26\n",
    "Exercise 3 is due Wednesday 10/27\n",
    "</pre>"
   ]
  },
  {
   "cell_type": "markdown",
   "metadata": {},
   "source": [
    "# Exercise 1\n",
    "\n",
    "Create a class called `Course` and a class called `Student` based on what you think they will need. Create a way to store 20 \"students\" (instances of the `Student` class into an instance of `Course` to represent our Data Science course. \n",
    "\n",
    "Demonstrate that your code works. Message on slack if stuck or need clarification."
   ]
  },
  {
   "cell_type": "code",
   "execution_count": 24,
   "metadata": {},
   "outputs": [],
   "source": [
    "class Course:\n",
    "    def __init__(self, name, track, homework):\n",
    "        self.lstudents = []\n",
    "        self.name = name\n",
    "        self.track = track\n",
    "        self.homework = bool\n",
    "\n",
    "    def grades(self):\n",
    "        if self.homework == True:\n",
    "            print(f'{self.name} is doing well as a {self.track} student!')\n",
    "        elif self.homework == False:\n",
    "            print(f'{self.name} is struggling as a {self.track} student.')\n",
    "\n",
    "\n",
    "\n",
    "class Student(Course):\n",
    "    def __init__(self, name, track, homework):\n",
    "        super().__init__(name, track, homework)\n",
    "\n",
    "    def lostudents(self):\n",
    "        self.lstudents.append(self.name)\n",
    "        s = len(self.lstudents)\n",
    "        print(f'There are {s} students in this track.')\n",
    "        return lstudents\n",
    "            \n",
    "\n"
   ]
  },
  {
   "cell_type": "code",
   "execution_count": 26,
   "metadata": {},
   "outputs": [],
   "source": [
    "dylan = Student('Dylan', 'Data Science', True)\n",
    "daiyan = Student('Daiyan', 'Data Science', True)\n"
   ]
  },
  {
   "cell_type": "code",
   "execution_count": 27,
   "metadata": {},
   "outputs": [
    {
     "name": "stdout",
     "output_type": "stream",
     "text": [
      "There are 1 students in this track.\n"
     ]
    },
    {
     "ename": "NameError",
     "evalue": "name 'lstudents' is not defined",
     "output_type": "error",
     "traceback": [
      "\u001b[1;31m---------------------------------------------------------------------------\u001b[0m",
      "\u001b[1;31mNameError\u001b[0m                                 Traceback (most recent call last)",
      "\u001b[1;32m~\\AppData\\Local\\Temp/ipykernel_16672/1703954136.py\u001b[0m in \u001b[0;36m<module>\u001b[1;34m\u001b[0m\n\u001b[1;32m----> 1\u001b[1;33m \u001b[0mdaiyan\u001b[0m\u001b[1;33m.\u001b[0m\u001b[0mlostudents\u001b[0m\u001b[1;33m(\u001b[0m\u001b[1;33m)\u001b[0m\u001b[1;33m\u001b[0m\u001b[1;33m\u001b[0m\u001b[0m\n\u001b[0m\u001b[0;32m      2\u001b[0m \u001b[0mdylan\u001b[0m\u001b[1;33m.\u001b[0m\u001b[0mgrades\u001b[0m\u001b[1;33m(\u001b[0m\u001b[1;33m)\u001b[0m\u001b[1;33m\u001b[0m\u001b[1;33m\u001b[0m\u001b[0m\n",
      "\u001b[1;32m~\\AppData\\Local\\Temp/ipykernel_16672/1050515407.py\u001b[0m in \u001b[0;36mlostudents\u001b[1;34m(self)\u001b[0m\n\u001b[0;32m     22\u001b[0m         \u001b[0ms\u001b[0m \u001b[1;33m=\u001b[0m \u001b[0mlen\u001b[0m\u001b[1;33m(\u001b[0m\u001b[0mself\u001b[0m\u001b[1;33m.\u001b[0m\u001b[0mlstudents\u001b[0m\u001b[1;33m)\u001b[0m\u001b[1;33m\u001b[0m\u001b[1;33m\u001b[0m\u001b[0m\n\u001b[0;32m     23\u001b[0m         \u001b[0mprint\u001b[0m\u001b[1;33m(\u001b[0m\u001b[1;34mf'There are {s} students in this track.'\u001b[0m\u001b[1;33m)\u001b[0m\u001b[1;33m\u001b[0m\u001b[1;33m\u001b[0m\u001b[0m\n\u001b[1;32m---> 24\u001b[1;33m         \u001b[1;32mreturn\u001b[0m \u001b[0mlstudents\u001b[0m\u001b[1;33m\u001b[0m\u001b[1;33m\u001b[0m\u001b[0m\n\u001b[0m\u001b[0;32m     25\u001b[0m \u001b[1;33m\u001b[0m\u001b[0m\n\u001b[0;32m     26\u001b[0m \u001b[1;33m\u001b[0m\u001b[0m\n",
      "\u001b[1;31mNameError\u001b[0m: name 'lstudents' is not defined"
     ]
    }
   ],
   "source": [
    "daiyan.lostudents()\n",
    "dylan.grades()"
   ]
  },
  {
   "cell_type": "markdown",
   "metadata": {},
   "source": [
    "# Exercise 2\n",
    "\n",
    "Create a class called `SafeFloat` that stores an attribute called `num` as an instance attribute set during initialization and sets `num_as_float` based on `num`\n",
    "\n",
    "Include the following three methods:\n",
    "\n",
    "`to_float` - that converts `num` to a float and stores that an attribute `num_as_float`. If `num` cannot be converted, set `num_as_float` to `None`. Do on mutate the original `num`, we'd like to keep it.\n",
    "\n",
    "`check_type` - that returns `True` if `num_as_float` is a float. It should create `num_as_float` if it doesn't exist. \n",
    "\n",
    "and a method that overrides the addition operator so that when instances of `SafeFloat` are added, `num_as_float` is used to add. Return the sum of the two instances or return `None` if the two cannot be added.\n",
    "\n",
    "Demonstrate that this works for strings, ints, bools and floats."
   ]
  },
  {
   "cell_type": "code",
   "execution_count": null,
   "metadata": {},
   "outputs": [],
   "source": [
    "class SafeFloat:\n",
    "    # replace pass with your code\n",
    "    pass\n",
    "\n",
    "# test with ints, floats, bools and strings\n",
    "e = SafeFloat(0)\n",
    "f = SafeFloat(0)\n",
    "print(e.num_as_float)\n",
    "print(f.num_as_float)\n",
    "print(e.check_type())\n",
    "print(f.check_type())\n",
    "print(e + f)"
   ]
  },
  {
   "cell_type": "markdown",
   "metadata": {},
   "source": [
    "# Exercise 3\n",
    "\n",
    "Create a base class `Shape` and two classes that inherits that base class called `Triangle` and `Rectangle`. Consider what those two share in common (height and width) and use that to create your base class `Shape`. Create a method for base class called `area` that returns `None` for the base class. Override that method for `Triangle` and `Rectangle` so instances of those two classes can calculate the correct area.\n",
    "\n",
    "Demonstrate that your code works."
   ]
  },
  {
   "cell_type": "code",
   "execution_count": null,
   "metadata": {},
   "outputs": [],
   "source": []
  }
 ],
 "metadata": {
  "interpreter": {
   "hash": "639e9cd4bdad712cd2a7c4c9b53f658627a24355d3f9e4cdd83ed32a6a8b3c7f"
  },
  "kernelspec": {
   "display_name": "Python 3.9.6 64-bit",
   "name": "python3"
  },
  "language_info": {
   "codemirror_mode": {
    "name": "ipython",
    "version": 3
   },
   "file_extension": ".py",
   "mimetype": "text/x-python",
   "name": "python",
   "nbconvert_exporter": "python",
   "pygments_lexer": "ipython3",
   "version": "3.9.6"
  }
 },
 "nbformat": 4,
 "nbformat_minor": 4
}
