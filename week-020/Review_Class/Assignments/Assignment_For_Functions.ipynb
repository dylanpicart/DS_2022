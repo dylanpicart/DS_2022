{
 "cells": [
  {
   "cell_type": "markdown",
   "id": "c6e44769",
   "metadata": {},
   "source": [
    "# Exercise 1:\n",
    "\n",
    "    Create a function that is going to take in one input, a string called word.\n",
    "    \n",
    "    The function should return the \"middle\" character of the string. \n",
    "    If the word's length is odd, it is going to return the middle character, if it is even, it should return the middle two.\n"
   ]
  },
  {
   "cell_type": "code",
<<<<<<< HEAD
   "execution_count": 14,
   "id": "65208872",
   "metadata": {},
   "outputs": [
    {
     "name": "stdout",
     "output_type": "stream",
     "text": [
      "Correct\n"
     ]
    }
   ],
   "source": [
    "def get_middle(word):\n",
    "    '''Index, get the middle by dividing length of word by 2.\n",
    "    For even numbers,  we will index one to the left (-1) and\n",
    "    two to the right (2)'''\n",
    "    return word[(len(word)-1) // 2: (len(word)+2) // 2]\n",
    "\n",
    "    \n",
=======
   "execution_count": null,
   "id": "65208872",
   "metadata": {},
   "outputs": [],
   "source": [
    "def get_middle(word):\n",
    "    pass\n",
>>>>>>> 95139602723fe8f4b85206e1fa4c5fa8484f7d3f
    "    \n",
    "      \n",
    "try:   \n",
    "    assert(get_middle(\"test\") == \"es\")\n",
    "    assert(get_middle(\"testing\") == \"t\")\n",
    "    assert(get_middle(\"middle\") == \"dd\")\n",
    "    assert(get_middle(\"A\") == \"A\")\n",
    "    assert(get_middle(\"of\") == \"of\")\n",
    "    print('Correct')\n",
    "    \n",
    "except AssertionError:\n",
    "    print(\"Solution is incorrect\")\n",
    "\n"
   ]
  },
  {
   "cell_type": "markdown",
   "id": "b940d63b",
   "metadata": {},
   "source": [
    "# Exercise 2\n",
    "    You will be given an array of numbers. You have to sort the odd numbers \n",
    "    in ascending order while leaving the even numbers at their original positions.\n",
    "    \n",
    "    Examples\n",
    "    \n",
    "    [7, 1]  =>  [1, 7]\n",
    "    [5, 8, 6, 3, 4]  =>  [3, 8, 6, 5, 4]\n",
    "    [9, 8, 7, 6, 5, 4, 3, 2, 1, 0]  =>  [1, 8, 3, 6, 5, 4, 7, 2, 9, 0]\n",
    "    "
   ]
  },
  {
   "cell_type": "code",
<<<<<<< HEAD
   "execution_count": 15,
   "id": "73e552d5",
   "metadata": {},
   "outputs": [
    {
     "name": "stdout",
     "output_type": "stream",
     "text": [
      "Solution not Correct\n"
     ]
    }
   ],
   "source": [
    "def sort_array(source_array):\n",
    "    for i in source_array:\n",
    "        if i % 2 == 0:\n",
    "            pass\n",
    "        else:\n",
    "            return sorted(source_array)\n",
=======
   "execution_count": null,
   "id": "73e552d5",
   "metadata": {},
   "outputs": [],
   "source": [
    "def sort_array(source_array):\n",
    "    pass\n",
>>>>>>> 95139602723fe8f4b85206e1fa4c5fa8484f7d3f
    "    \n",
    "    \n",
    "try:\n",
    "    assert(sort_array([5, 3, 2, 8, 1, 4]) ==  [1, 3, 2, 8, 5, 4])\n",
    "    assert(sort_array([5, 3, 1, 8, 0])  == [1, 3, 5, 8, 0])\n",
    "    assert(sort_array([]) == [])\n",
    "    print(\"Correct\")\n",
    "except AssertionError:\n",
    "    print(\"Solution not Correct\")"
   ]
  },
  {
<<<<<<< HEAD
   "cell_type": "code",
   "execution_count": 19,
   "id": "8cbaca68",
   "metadata": {},
   "outputs": [
    {
     "data": {
      "text/plain": [
       "[1, 2, 3, 4, 7, 8, 9]"
      ]
     },
     "execution_count": 19,
     "metadata": {},
     "output_type": "execute_result"
    }
   ],
   "source": [
    "def sort_array(source_array):\n",
    "    for i in source_array:\n",
    "        if i % 2 == 0:\n",
    "            pass\n",
    "        else:\n",
    "            return sorted(source_array)\n",
    "        \n",
    "sort_array([1, 3, 2, 4, 9, 7, 8])"
   ]
  },
  {
=======
>>>>>>> 95139602723fe8f4b85206e1fa4c5fa8484f7d3f
   "cell_type": "markdown",
   "id": "df9764b1",
   "metadata": {},
   "source": [
    "# Exercise 3:\n",
    "\n",
    "    Given an integer x, return true if x is palindrome integer.\n",
    "\n",
    "    An integer is a palindrome when it reads the same backward as forward.\n",
    "\n",
    "    For example, 121 is a palindrome while 123 is not."
   ]
  },
  {
   "cell_type": "code",
<<<<<<< HEAD
   "execution_count": 24,
   "id": "a6497f85",
   "metadata": {},
   "outputs": [
    {
     "ename": "TypeError",
     "evalue": "'int' object is not subscriptable",
     "output_type": "error",
     "traceback": [
      "\u001b[1;31m---------------------------------------------------------------------------\u001b[0m",
      "\u001b[1;31mTypeError\u001b[0m                                 Traceback (most recent call last)",
      "\u001b[1;32m~\\AppData\\Local\\Temp/ipykernel_21284/2785371611.py\u001b[0m in \u001b[0;36m<module>\u001b[1;34m\u001b[0m\n\u001b[0;32m     12\u001b[0m \u001b[1;33m\u001b[0m\u001b[0m\n\u001b[0;32m     13\u001b[0m \u001b[1;32mtry\u001b[0m\u001b[1;33m:\u001b[0m\u001b[1;33m\u001b[0m\u001b[1;33m\u001b[0m\u001b[0m\n\u001b[1;32m---> 14\u001b[1;33m     \u001b[1;32massert\u001b[0m\u001b[1;33m(\u001b[0m\u001b[0mpalindrome_checker\u001b[0m\u001b[1;33m(\u001b[0m\u001b[1;36m111\u001b[0m\u001b[1;33m)\u001b[0m \u001b[1;33m==\u001b[0m  \u001b[1;32mTrue\u001b[0m\u001b[1;33m)\u001b[0m\u001b[1;33m\u001b[0m\u001b[1;33m\u001b[0m\u001b[0m\n\u001b[0m\u001b[0;32m     15\u001b[0m     \u001b[1;32massert\u001b[0m\u001b[1;33m(\u001b[0m\u001b[0mpalindrome_checker\u001b[0m\u001b[1;33m(\u001b[0m\u001b[1;36m1110\u001b[0m\u001b[1;33m)\u001b[0m \u001b[1;33m==\u001b[0m  \u001b[1;32mFalse\u001b[0m\u001b[1;33m)\u001b[0m\u001b[1;33m\u001b[0m\u001b[1;33m\u001b[0m\u001b[0m\n\u001b[0;32m     16\u001b[0m     \u001b[1;32massert\u001b[0m\u001b[1;33m(\u001b[0m\u001b[0mpalindrome_checker\u001b[0m\u001b[1;33m(\u001b[0m\u001b[1;36m100001\u001b[0m\u001b[1;33m)\u001b[0m \u001b[1;33m==\u001b[0m  \u001b[1;32mTrue\u001b[0m\u001b[1;33m)\u001b[0m\u001b[1;33m\u001b[0m\u001b[1;33m\u001b[0m\u001b[0m\n",
      "\u001b[1;32m~\\AppData\\Local\\Temp/ipykernel_21284/2785371611.py\u001b[0m in \u001b[0;36mpalindrome_checker\u001b[1;34m(ints)\u001b[0m\n\u001b[0;32m      1\u001b[0m \u001b[1;32mdef\u001b[0m \u001b[0mpalindrome_checker\u001b[0m\u001b[1;33m(\u001b[0m\u001b[0mints\u001b[0m\u001b[1;33m)\u001b[0m\u001b[1;33m:\u001b[0m\u001b[1;33m\u001b[0m\u001b[1;33m\u001b[0m\u001b[0m\n\u001b[0;32m      2\u001b[0m \u001b[1;33m\u001b[0m\u001b[0m\n\u001b[1;32m----> 3\u001b[1;33m     \u001b[0mreversed_ints\u001b[0m \u001b[1;33m=\u001b[0m \u001b[0mints\u001b[0m\u001b[1;33m[\u001b[0m\u001b[1;33m:\u001b[0m\u001b[1;33m:\u001b[0m\u001b[1;33m-\u001b[0m\u001b[1;36m1\u001b[0m\u001b[1;33m]\u001b[0m\u001b[1;33m\u001b[0m\u001b[1;33m\u001b[0m\u001b[0m\n\u001b[0m\u001b[0;32m      4\u001b[0m     \u001b[1;32mif\u001b[0m\u001b[1;33m(\u001b[0m\u001b[0mints\u001b[0m\u001b[1;33m!=\u001b[0m\u001b[0mreversed_ints\u001b[0m\u001b[1;33m)\u001b[0m\u001b[1;33m:\u001b[0m\u001b[1;33m\u001b[0m\u001b[1;33m\u001b[0m\u001b[0m\n\u001b[0;32m      5\u001b[0m         \u001b[1;32mreturn\u001b[0m \u001b[1;32mFalse\u001b[0m\u001b[1;33m\u001b[0m\u001b[1;33m\u001b[0m\u001b[0m\n",
      "\u001b[1;31mTypeError\u001b[0m: 'int' object is not subscriptable"
     ]
    }
   ],
   "source": [
    "def palindrome_checker(ints):\n",
    "    \n",
    "    reversed_ints = ints[::-1]\n",
    "    if(ints!=reversed_ints):\n",
    "        return False\n",
    "    else:\n",
    "        return True\n",
    "\n",
    "    \n",
=======
   "execution_count": null,
   "id": "a6497f85",
   "metadata": {},
   "outputs": [],
   "source": [
    "def palindrome_checker(ints):\n",
    "    pass\n",
>>>>>>> 95139602723fe8f4b85206e1fa4c5fa8484f7d3f
    "    \n",
    "    \n",
    "    \n",
    "try:\n",
    "    assert(palindrome_checker(111) ==  True)\n",
    "    assert(palindrome_checker(1110) ==  False)\n",
    "    assert(palindrome_checker(100001) ==  True)\n",
    "    print(\"Correct\")\n",
    "except AssertionError:\n",
    "    print(\"Solution not Correct\")"
   ]
  },
  {
   "cell_type": "code",
<<<<<<< HEAD
   "execution_count": 28,
   "id": "46ea600f",
   "metadata": {},
   "outputs": [],
   "source": [
    "\n",
    "        def thousandSeparator(self, n: int) -> str:\n",
    "        n = list(n)\n",
    "        if len(n) > 3:\n",
    "            n.insert(1, '.')\n",
    "        return n\n",
    "    \n"
   ]
=======
   "execution_count": null,
   "id": "46ea600f",
   "metadata": {},
   "outputs": [],
   "source": []
>>>>>>> 95139602723fe8f4b85206e1fa4c5fa8484f7d3f
  }
 ],
 "metadata": {
  "kernelspec": {
   "display_name": "Python 3",
   "language": "python",
   "name": "python3"
  },
  "language_info": {
   "codemirror_mode": {
    "name": "ipython",
    "version": 3
   },
   "file_extension": ".py",
   "mimetype": "text/x-python",
   "name": "python",
   "nbconvert_exporter": "python",
   "pygments_lexer": "ipython3",
<<<<<<< HEAD
   "version": "3.10.0"
=======
   "version": "3.9.1"
>>>>>>> 95139602723fe8f4b85206e1fa4c5fa8484f7d3f
  }
 },
 "nbformat": 4,
 "nbformat_minor": 5
}
