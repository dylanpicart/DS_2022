{
 "cells": [
  {
   "cell_type": "markdown",
   "metadata": {},
   "source": [
    "<div style=\"background: #000;\n",
    "            color: #FFF;\n",
    "            margin: 0px;\n",
    "                padding: 10px 0px 20px 0px;\n",
    "            text-align: center; \n",
    "                \">\n",
    "    <h1>Week 3 - Class -2 - Lab</h1>\n",
    "</div>\n"
   ]
  },
  {
   "cell_type": "markdown",
   "metadata": {},
   "source": [
    "# Question 1: \n",
    "\n",
    "In the future we will be using different datasets, how do you think we can utilize condtionals and control structures to clean, sort, and separate data?"
   ]
  },
  {
   "cell_type": "markdown",
   "metadata": {},
   "source": [
    "# Exercise 1:\n",
    "\n",
    "Given any integer, create a conditional that checks if the integer is 3 digits. Print \"It's 3 digits\" if the number is three digits, print \"it's not three digits\" otherwise\n"
   ]
  },
  {
   "cell_type": "code",
   "execution_count": null,
   "metadata": {},
   "outputs": [],
   "source": [
    "num = 362"
   ]
  },
  {
   "cell_type": "code",
   "execution_count": null,
   "metadata": {},
   "outputs": [],
   "source": []
  },
  {
   "cell_type": "markdown",
   "metadata": {},
   "source": [
    "# Exercise 2:\n",
    "\n",
    "Write a conditional to apply the correct amount of tax depending on how much is spent on a purchase.\n",
    "\n",
    "        **Cost price**                                                        **Tax**\n",
    "        Greater than 100000                                                    15 %\n",
    "        Greater than 50000 and less than or equal to 100000                    10%\n",
    "        less than or equal to 50000                                            5%\n",
    "        \n",
    "Print the total amount including tax"
   ]
  },
  {
   "cell_type": "code",
   "execution_count": null,
   "metadata": {},
   "outputs": [],
   "source": [
    "purchase = input(\"How much was the purchase?\")"
   ]
  },
  {
   "cell_type": "markdown",
   "metadata": {},
   "source": [
    "# Exercise 3\n",
    "\n",
    "Provided a dictionary of users, take an input value and create a conditonal to determine if the password enter matches the user's password.\n",
    "\n",
    "print the users name, admin status and age\n",
    "\n",
    "If the user entered in the input is not in the users print \"Username/Password Incorrect\"\n",
    "\n",
    "If the password enter in the input is incorrect print \"Username/Password Incorrect\""
   ]
  },
  {
   "cell_type": "code",
   "execution_count": null,
   "metadata": {},
   "outputs": [],
   "source": [
    "users = {\n",
    "    \"Joe\": {\n",
    "        \"is_admin\": False,\n",
    "        \"age\" : 22,\n",
    "        \"password\": \"newpassword1\"\n",
    "    },\n",
    "    \"Craig\": {\n",
    "        \"is_admin\": True,\n",
    "        \"age\" : 35,\n",
    "        \"password\": \"testword4321\"\n",
    "    },\n",
    "    \"Trixy\": {\n",
    "        \"is_admin\": False,\n",
    "        \"age\" : 18,\n",
    "        \"password\": \"catdoor2\"\n",
    "    },\n",
    "    \"Matt\": {\n",
    "        \"is_admin\": True,\n",
    "        \"age\" : 31,\n",
    "        \"password\": \"yoyo45alma\"\n",
    "    },\n",
    "    \"Tim\": {\n",
    "        \"is_admin\": False,\n",
    "        \"age\" : 27,\n",
    "        \"password\": \"p@$$w0rd!23\"\n",
    "    },\n",
    "}"
   ]
  },
  {
   "cell_type": "code",
   "execution_count": null,
   "metadata": {},
   "outputs": [],
   "source": [
    "input_value = input(\"Enter User's name and password separated by a comma\")\n"
   ]
  },
  {
   "cell_type": "code",
   "execution_count": null,
   "metadata": {},
   "outputs": [],
   "source": []
  }
 ],
 "metadata": {
  "kernelspec": {
   "display_name": "Python 3",
   "language": "python",
   "name": "python3"
  },
  "language_info": {
   "codemirror_mode": {
    "name": "ipython",
    "version": 3
   },
   "file_extension": ".py",
   "mimetype": "text/x-python",
   "name": "python",
   "nbconvert_exporter": "python",
   "pygments_lexer": "ipython3",
   "version": "3.9.0"
  }
 },
 "nbformat": 4,
 "nbformat_minor": 4
}
