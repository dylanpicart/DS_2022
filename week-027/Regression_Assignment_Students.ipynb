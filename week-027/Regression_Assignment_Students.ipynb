{
 "cells": [
  {
   "cell_type": "markdown",
   "id": "9d74b4e3",
   "metadata": {},
   "source": [
    "# Question 1"
   ]
  },
  {
   "cell_type": "markdown",
   "id": "d6b58907",
   "metadata": {},
   "source": [
    "    Define Gradient Descent using your own words."
   ]
  },
  {
<<<<<<< HEAD
   "cell_type": "markdown",
   "id": "fa500bc4",
   "metadata": {},
   "source": [
    "Gradient Descent is the partial derivative we derive from the Cost Function in order to find which direction we need to travel along in order to find the minimized point (also known as optima). We want to stop using Gradient Descent when the derivative of our respective theta is approximately equal to zero."
   ]
=======
   "cell_type": "code",
   "execution_count": null,
   "id": "0a03465c",
   "metadata": {},
   "outputs": [],
   "source": []
>>>>>>> 95139602723fe8f4b85206e1fa4c5fa8484f7d3f
  },
  {
   "cell_type": "markdown",
   "id": "fbfc4c6c",
   "metadata": {},
   "source": [
    "# Question 2"
   ]
  },
  {
   "cell_type": "markdown",
   "id": "fedf0ba0",
   "metadata": {},
   "source": [
    "    Define what a loss function is, and what it is used for."
   ]
  },
  {
<<<<<<< HEAD
   "cell_type": "markdown",
   "id": "ac9cfc88",
   "metadata": {},
   "source": [
    "A loss function is a function that is used to minimize the error of each data point we give our machine, so we could better determine the approximation for where y is, and where y will likely be in the future."
   ]
=======
   "cell_type": "code",
   "execution_count": null,
   "id": "c10c2d81",
   "metadata": {},
   "outputs": [],
   "source": []
>>>>>>> 95139602723fe8f4b85206e1fa4c5fa8484f7d3f
  },
  {
   "cell_type": "markdown",
   "id": "60c700ae",
   "metadata": {},
   "source": [
    "# Question 3"
   ]
  },
  {
   "cell_type": "markdown",
   "id": "76fb3455",
   "metadata": {},
   "source": [
    "    We talked about 3 common loss functions. Please write down the loss function, the cost function built out of the loss function, and the benfits and negatives of using a particular loss function. Remember, loss function is the measure of error at a singular point, the COST is the measure of error across the entire dataset."
   ]
  },
  {
   "cell_type": "markdown",
   "id": "c44d153f",
   "metadata": {},
   "source": [
    "### L1 Loss"
   ]
  },
  {
<<<<<<< HEAD
   "cell_type": "markdown",
   "id": "30c1a5fd",
   "metadata": {},
   "source": [
    "L1 loss function is a linear function best represented by the mean absolute error approximation: $|y_{T}-y_{P}|$\n",
    "\n",
    "This is best used for scenarios where there is low variance, as it produces a robust line that is resistant to outliers. We run into a problem when $|y_{T} - y_{P}| = 0$, as the function becomes non-differentiable due to a zero in the denominator."
   ]
=======
   "cell_type": "code",
   "execution_count": null,
   "id": "ad6873e3",
   "metadata": {},
   "outputs": [],
   "source": []
>>>>>>> 95139602723fe8f4b85206e1fa4c5fa8484f7d3f
  },
  {
   "cell_type": "markdown",
   "id": "5ea47cd2",
   "metadata": {},
   "source": [
    "### L2 Loss"
   ]
  },
  {
<<<<<<< HEAD
   "cell_type": "markdown",
   "id": "0638917c",
   "metadata": {},
   "source": [
    "L2 loss function is a quadratic function best represented by the mean squared error approximation: $(y_{T} - y_{P})^{2}$\n",
    "\n",
    "This is best used for scenarios where there is high variance, as the pull is largely ignored by outliers. However, due to the square in the function, the MSE is less robust to outiers. It falls short when it comes its accuracy the further away our outliers are, espescially when there are many outliers."
   ]
=======
   "cell_type": "code",
   "execution_count": null,
   "id": "fc81ceae",
   "metadata": {},
   "outputs": [],
   "source": []
>>>>>>> 95139602723fe8f4b85206e1fa4c5fa8484f7d3f
  },
  {
   "cell_type": "markdown",
   "id": "a35b20d0",
   "metadata": {},
   "source": [
    "### Huber Loss"
   ]
  },
  {
<<<<<<< HEAD
   "cell_type": "markdown",
   "id": "7a34df52",
   "metadata": {},
   "source": [
    "The Huber Loss function combines both the Mean Absolute Error (MAE) and Mean Squared Error (MSE) in order get a more accurate representation of the minima. With, MAE, we run into the possibility of it being non-differentiable at 0 due to our denominator, while with the MSE alone we won't get as accurate a representation the further away we are from zero. We use delta in order to determine the bounds we establish to use the MAE (on the outside) versus the MSE (on the inside). Therefore we get a more robust representation of our approximation as opposed to the MSE, without the threat of a non-differentiable function."
   ]
=======
   "cell_type": "code",
   "execution_count": null,
   "id": "12474388",
   "metadata": {},
   "outputs": [],
   "source": []
>>>>>>> 95139602723fe8f4b85206e1fa4c5fa8484f7d3f
  },
  {
   "cell_type": "markdown",
   "id": "ac0acb04",
   "metadata": {},
   "source": [
    "# Question 4"
   ]
  },
  {
   "cell_type": "markdown",
   "id": "01a2f7a0",
   "metadata": {},
   "source": [
    "    Why is Stochastic Gradient Descent preferable to Batch Gradient Descent?"
   ]
  },
  {
<<<<<<< HEAD
   "cell_type": "markdown",
   "id": "b548b158",
   "metadata": {},
   "source": [
    "Stochastic Gradient Descent takes a random data point in our plot at each iteration to calculate the derivative and makes an approximation based off of that point when compared to another point nearby. This process is a little less progressive in that it does not start from \"bottom-to-top,\" as it were, and can more quickly create an approximation based off of those points when compared to our Standard Gradient Descent which has to go through many more iterations to calculate an approximation."
   ]
=======
   "cell_type": "code",
   "execution_count": null,
   "id": "6bc0c547",
   "metadata": {},
   "outputs": [],
   "source": []
>>>>>>> 95139602723fe8f4b85206e1fa4c5fa8484f7d3f
  },
  {
   "cell_type": "markdown",
   "id": "46d3e50c",
   "metadata": {},
   "source": [
    "# Question 5"
   ]
  },
  {
   "cell_type": "markdown",
   "id": "f855c565",
   "metadata": {},
   "source": [
    "    There are four assumptions about our data before we do linear regression. What are they?"
   ]
  },
  {
<<<<<<< HEAD
   "cell_type": "markdown",
   "id": "15a14e5f",
   "metadata": {},
   "source": [
    "1.) Linearity: The relationship between x & y is linear\n",
    "\n",
    "2.) Independence: Each observation is independent of each other\n",
    "\n",
    "3.) Normalization: For any fixed value of x, the error point of y is normally distributed\n",
    "\n",
    "4.) Equality of Variance: There is a constant variance of the residuals (points in our plot)"
   ]
=======
   "cell_type": "code",
   "execution_count": null,
   "id": "96404254",
   "metadata": {},
   "outputs": [],
   "source": []
>>>>>>> 95139602723fe8f4b85206e1fa4c5fa8484f7d3f
  },
  {
   "cell_type": "markdown",
   "id": "dc8a1bb3",
   "metadata": {},
   "source": [
    "# Question 6"
   ]
  },
  {
   "cell_type": "markdown",
   "id": "44d4aec0",
   "metadata": {},
   "source": [
    "    Using SKLearn, create three Regression Lines for the x's and y's provided. Use the three different cost functions.\n",
    "    \n",
    "    Create a plot that shows your Regression Lines plotted against the data set. \n",
    "    (hint: Remember, you can get theta_0 and theta_1 from your SGDRegressor. Use that to build out your line.)"
   ]
  },
  {
   "cell_type": "code",
<<<<<<< HEAD
   "execution_count": 6,
=======
   "execution_count": 547,
>>>>>>> 95139602723fe8f4b85206e1fa4c5fa8484f7d3f
   "id": "2c62b85f",
   "metadata": {},
   "outputs": [],
   "source": [
<<<<<<< HEAD
    "from sklearn.linear_model import SGDRegressor\n",
    "from matplotlib import pyplot as plt"
=======
    "from sklearn.linear_model import SGDRegressor"
>>>>>>> 95139602723fe8f4b85206e1fa4c5fa8484f7d3f
   ]
  },
  {
   "cell_type": "code",
<<<<<<< HEAD
   "execution_count": 37,
=======
   "execution_count": 514,
>>>>>>> 95139602723fe8f4b85206e1fa4c5fa8484f7d3f
   "id": "f5cac625",
   "metadata": {},
   "outputs": [],
   "source": [
<<<<<<< HEAD
    "x_training_set = [[83],[42],[23],[54],[57],[69],[47],[69],[80],[41],[24],[11],[4],[52],[39],[43],[19],[53],[1],[18],[10],[11],[78],[66]]\n",
    "y_training_set = [19,73,51,54,47,48,37,15,4,89,50,88,91,77,57,36,96,61,91,71,87,99,11,39]"
   ]
  },
  {
   "cell_type": "code",
   "execution_count": 38,
   "id": "e59089fe",
   "metadata": {},
   "outputs": [
    {
     "data": {
      "image/png": "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",
      "text/plain": [
       "<Figure size 432x288 with 1 Axes>"
      ]
     },
     "metadata": {
      "needs_background": "light"
     },
     "output_type": "display_data"
    }
   ],
   "source": [
    "plt.scatter(x_training_set, y_training_set)\n",
    "plt.show()"
   ]
  },
  {
   "cell_type": "code",
   "execution_count": 98,
   "id": "ff5811c8",
   "metadata": {},
   "outputs": [],
   "source": [
    "SGDR = SGDRegressor(loss='huber',penalty=None,alpha=0.0001,max_iter=1000, tol=1e-3, epsilon=0.1)"
=======
    "x_set_to_use = [[83],[42],[23],[54],[57],[69],[47],[69],[80],[41],[24],[11],[4],[52],[39],[43],[19],[53],[1],[18],[10],[11],[78],[66]]"
>>>>>>> 95139602723fe8f4b85206e1fa4c5fa8484f7d3f
   ]
  },
  {
   "cell_type": "code",
<<<<<<< HEAD
   "execution_count": 99,
   "id": "028d0bd5",
   "metadata": {},
   "outputs": [],
   "source": [
    "line = SGDR.fit(x_training_set, y_training_set, coef_init=-1, intercept_init=80)"
   ]
  },
  {
   "cell_type": "code",
   "execution_count": 100,
   "id": "27aee3c0",
   "metadata": {},
   "outputs": [
    {
     "name": "stdout",
     "output_type": "stream",
     "text": [
      "[-0.60967489] [80.03003248]\n"
     ]
    }
   ],
   "source": [
    "print(SGDR.coef_, SGDR.intercept_)"
   ]
  },
  {
   "cell_type": "code",
   "execution_count": 101,
   "id": "86b9d7da",
   "metadata": {},
   "outputs": [
    {
     "data": {
      "image/png": "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",
      "text/plain": [
       "<Figure size 432x288 with 1 Axes>"
      ]
     },
     "metadata": {
      "needs_background": "light"
     },
     "output_type": "display_data"
    }
   ],
   "source": [
    "y_set_to_use = [SGDR.coef_ * x + SGDR.intercept_ for x in x_training_set]\n",
    "\n",
    "plt.scatter(x_training_set, y_training_set)\n",
    "plt.plot(x_training_set, y_set_to_use, color='red')\n",
    "plt.show()\n"
   ]
  },
  {
   "cell_type": "code",
   "execution_count": 203,
   "id": "0b3051d5",
   "metadata": {},
   "outputs": [],
   "source": [
    "SGDR = SGDRegressor(loss='squared_error', penalty=None, alpha=0.0001, max_iter=1000, tol=1e-3)"
   ]
  },
  {
   "cell_type": "code",
   "execution_count": 204,
   "id": "95eb3af6",
   "metadata": {},
   "outputs": [
    {
     "data": {
      "text/plain": [
       "SGDRegressor(penalty=None)"
      ]
     },
     "execution_count": 204,
     "metadata": {},
     "output_type": "execute_result"
    }
   ],
   "source": [
    "SGDR.fit(x_training_set, y_training_set, coef_init=-1, intercept_init=80)"
   ]
  },
  {
   "cell_type": "code",
   "execution_count": 205,
   "id": "e2deb029",
   "metadata": {},
   "outputs": [
    {
     "name": "stdout",
     "output_type": "stream",
     "text": [
      "[-5.71815346e+09] [-5.78506069e+09]\n"
     ]
    }
   ],
   "source": [
    "print(SGDR.coef_, SGDR.intercept_)"
   ]
  },
  {
   "cell_type": "code",
   "execution_count": 206,
   "id": "03f09e28",
   "metadata": {},
   "outputs": [
    {
     "data": {
      "image/png": "iVBORw0KGgoAAAANSUhEUgAAAXIAAAEDCAYAAAAoWo9tAAAAOXRFWHRTb2Z0d2FyZQBNYXRwbG90bGliIHZlcnNpb24zLjUuMSwgaHR0cHM6Ly9tYXRwbG90bGliLm9yZy/YYfK9AAAACXBIWXMAAAsTAAALEwEAmpwYAAAaKElEQVR4nO3de5RcVZn38d/Tnc6Fi8SYACEXQhgmJAYI2IoScIY74pAEFSUZmICXyCjCDKOIYQZEYSEwjswo6AThBTQSFQmvRjSSoAscBhYdcwU6DhLIjWCH68Abcn3eP3Y1p6u7uruq61TvOlXfz1q9kr37dJ2nTp/6ZWefXXXM3QUAyK6G2AUAAMpDkANAxhHkAJBxBDkAZBxBDgAZR5ADQMZFC3Izu8PM/mxma4rY9oNm9gcz22VmH+v0vV+b2atmtqhy1QJA9Yo5Ir9T0hlFbrte0gWSflTgezdJOj+dkgAge6IFubs/LOnljn1mdmhuhL3MzB4xs8Nz2z7n7qsk7SnwOEsl/W+/FA0AVWhA7AI6mSfpInf/HzM7VtKtkk6KXBMAVLWqCXIz20fScZJ+ambt3YPiVQQA2VA1Qa4wzfOqu0+JXQgAZEnVLD9099clrTOzcyTJgqMilwUAVc9iffqhmd0j6a8lDZf0oqSrJT0k6buSRkpqkrTA3b9mZu+VtFDSOyW9JWmLu7879ziPSDpc0j6SXpL0KXdf3L/PBgDiiRbkAIB0VM3UCgCgb6Jc7Bw+fLiPGzcuxq4BILOWLVu21d1HdO6PEuTjxo1TS0tLjF0DQGaZ2fOF+plaAYCMI8gBIOMIcgDIOIIcADKOIAeAjEtl1YqZnSHp3yU1Svq+u38jjcft6P7lm3TT4rXa/Oo2HTR0iL50+gTNOHpU2duWU8eQpgZt27VH7lKjmWYeO0bXzjgilf10t8+Dhg7RiYeP0G9b2/r0/NJ8rGrX23nQ8ftD92qSu/Tatp2pH+O+HtPeflel1FjJ10Rfn09vNfzz/at1z+MbtNu9oq+vnvRUc6nPp5K/g7Lf2WlmjZL+KOlUSRslPSFpprs/1d3PNDc3eynLD+9fvklfuW+1tu3c/XbfkKZGXf+RI7ociFK2LVWhx+7svPePTfVkK2afxT6/NB+r2vV2HhRzLDoq5xj35ZiWWl9P+6nka6JYpdbwz/ev1g8fW9+lP+3XV096qllSSc8nrd+BmS1z9+bO/WlMrbxP0jPu/qy775C0QNL0FB73bTctXtvlhN62c7duWry2rG3TqKOzex7fUPZ+St1nsc8vzceqdr2dB8Uci+5+tpz9FqvU+nraTyVfE8UqtYbuXkdpv7560lPNpT6fSv8O0phaGSWp49HdKOnYzhuZ2RxJcyRp7NixJe1g86vbiu4vZdtSFfMYu1P+7Jpi6y5muzQfq9r1dh705TmWc4xL3V9ffwf9/ZooVqk1dPc6Svv11ZO+HLdSfyat30G/Xex093nu3uzuzSNGdHmHaY8OGjqk6P5Sti1VMY/RmNwUIxXF1l3Mdmk+VrXr7Tzoy3Ms5xiXur++/g76+zVRrFJr6O51lPbrqyc91Vzq86n07yCNIN8kaUyH9uhcX2q+dPoEDWlqzOsb0tSoL50+oaxt06ijs5nHjunx+5XYZ7HPL83Hqna9nQfFHIvufrac/Rar1Pp62k8lXxPFKrWG7l5Hab++etJTzaU+n0r/DtKYWnlC0mFmdohCgJ8raVYKj/u29osBxVzxLWXbcuvoj1UrhZ5PX1dUpPlY1a6386Dz99NatZLW+VfM76rYGiv5mijn+fRUQ/vrKOaqlWJqLvb5VPp3kMrnkZvZmZJuVlh+eIe7X9fT9qWuWnnbb34jTZsmLVkiHX98X0oFgMzqbtVKKuvI3f0BSQ+k8Vg9euMNaft26YQTpEMOkVpbpYEDK75bAKhm2Xpn50c+Iv3ud+Hv69ZJgwZJd98dtSQAiC1bQS5Jf/VX0p490owZoT17tmQmvfRS1LIAIJbsBbkUgnvhQumZZ5K+4cOlL385Xk0AEEk2g7zdoYdK7tJXvxraN94YQr61NWpZANCfsh3k7a6+WnrllaQ9caJ02mkh5AGgxtVGkEvS0KEhuBcsCO0HH5QaGqQrrohaFgBUWu0EebtPfELauTNp33BDmG7pOGIHgBpSe0EuSQMGhNH5t7+d9A0bJh11VLyaAKBCajPI2118cf48+apVYXS+cmW8mgAgZbUd5O3cpf/6r6Q9ZUoIdACoAfUR5JJ03HEh0EeOTPrMpB/8IF5NAJCC+gnydps3S1u2JO2/+7sQ6B0vkAJAhtRfkEvSAQeE0fmnP530DRwozZkTryYA6KP6DPJ2t92WPxK/7bYwOu84YgeAKlffQS4lSxU7foriyJH5c+kAUMUI8nbnn5+/VHHLljA6f/TReDUBQBEI8s7cpRUrkvbUqSxVBFDVCPJCjjoqBHrHd4Ka5b9TFACqBEHekxUrpJdfTtqXXBIC/a23opUEAJ0R5L155zvD6LzjTSuGDGG6BUDVIMiL9Y1vSLt35/eZ5c+nA0AEBHkpGhrC6PyGG5K+o49mdA4gKoK8Ly6/vOvdh8ykW2+NUw+AukaQl8NdeuyxpP35z4dA5xZzAPoRQV6uY4/tGtwNDdIpp8SpB0DdIcjT4p6/VHHp0jA637o1Xk0A6gJBnqb2pYpnnZX0jRjBxVAAFUWQV8LPfy7t2ZPfZyY98kicegDUNIK8Utovet5+e9L3wQ8yOgeQOoK80j75ycJLFb/2tTj1AKg5BHl/cZeefDJpX311CPRdu+LVBKAmEOT9adKkEOhNTUlfU5M0cWK8mgBkXllBbmbnmNmTZrbHzJrTKqrm7dghvflm0m5tDaPzDRvi1QQgs8odka+R9BFJD6dQS33Za68wOv/MZ5K+sWO5GAqgZGUFubs/7e5r0yqmLs2bV/hi6KJFceoBkDn9NkduZnPMrMXMWtra2vprt9nhLi1cmLTPOovROYCi9BrkZrbEzNYU+Jpeyo7cfZ67N7t784gRI/pecS2bMaPw6Pzii6OUAyAbBvS2gbvz6U/9zV16/nlp3LjQvuWW8LVtmzR4cNTSAFQflh9Wq4MPDoE+fnzSN2SIdP758WoCUJXKXX54tpltlPQBSb80s8XplIW3/elPYbliux/+MEy3bNoUryYAVaXcVSsL3X20uw9y9wPc/fS0CkMHTU1hdH7PPUnf6NFcDAUgiamVbDn33MIXQ+++O049AKoCQZ5F7tJDDyXt2bO5xRxQxwjyrDrxxMK3mPvoR+PUAyAagjzr3KUXX0za990XRuevvRavJgD9iiCvBfvvHwJ96tSkb+hQLoYCdYIgryW//720e3d+n5nU0hKnHgD9giCvNQ0NYXR+881J33vfy+gcqGEEea269NLCSxW/9a049QCoGIK81rnnT61cdlkI9D174tUEIFUEeT14z3u6js4bG5luAWoEQV5P3LsuSzST1q+PUw+AVBDk9eYd7wiBPmZM0nfwwYzOgQwjyOvV+vVd58nNpAUL4tQDoM8I8nrW/vks112X9M2cyegcyBiCHNLcuYWXKk6bFqceACUhyJHovFTxF78Igb59e7yaAPSKIEe+QksVBw9mugWoYgQ5CnOX3ngjv89MevLJOPUA6BZBju7tvXcI9BNOSPomT2Z0DlQZghy9e/jhwhdDv/3tOPUAyEOQo3ju0rx5SfuSSxidA1WAIEdpPvOZwqPzKVOilAOAIEdfuUt//GPSXrkyBPrrr8erCahTBDn67rDDuo7O99uP6RagnxHkKJ+7tGNHfp+Z9OijceoB6gxBjnQ0NYVAnzUr6Zs6ldE50A8IcqRr/vzCF0Pnzo1TD1AHCHJUhru0cGHSvv765NMWAaSKIEflzJjRNbgbGqShQ2NUA9QsghyV5y5t3py0X3stjM5ffDFeTUANIcjRP0aODIE+aFDSd+CBXAwFUkCQo3+99VbhW8wtWhSnHqAGlBXkZnaTmbWa2SozW2hmQ1OqC7Ws/aLnF7+Y9J11FqNzoI/KHZE/KGmyux8p6Y+SvlJ+SagbN91UeKniBRdEKQfIqrKC3N1/4+67cs3HJI0uvyTUHffwUbnt7rorBPquXd3/DIC3pTlH/klJv0rx8VBPTjih6+i8qYnpFqAIvQa5mS0xszUFvqZ32OZKSbskze/hceaYWYuZtbS1taVTPWqPu/Tqq/l9ZtKzz0YpB8gC8zLfaWdmF0j6rKST3f3/FfMzzc3N3tLxbu1AIRMnSq2t+X28MxR1zMyWuXtz5/5yV62cIelySdOKDXGgaE8/Xfhi6J13RikHqFblzpF/R9K+kh40sxVm9r0UagLyuUvf/GbSvvBC5s6BDspdtfIX7j7G3afkvi5KqzAgz2WXFR6dn3JKnHqAKsI7O5Et7uG2cu2WLg2Bvm1bvJqAyAhyZM+RR3Ydne+1F9MtqFsEObLLvetI3ExasSJKOUAsBDmybfDgEOinn570HX00o3PUFYIcteHXvy58MfTGG+PUA/Qjghy1xV36wQ+S9pe/zC3mUPMIctSe884rfIs5pltQowhy1C738O7QjswkPusHNYYgR207/PCuo/P992d0jppCkKM+uEs7d+b3mUn33x+lHCBNBDnqx4ABIdBPOCHpO/tsRufIPIIc9efhhwsvVTzrrDj1AGUiyFG/3KX5He6FsmhRCPQ9e+LVBPQBQY76NmtW19F5YyPTLcgUghyQQphv3JjfZyatWxenHqAEBDnQbtSorqPz8eMZnaPqEeRAZ+5d58nNpJ/9LE49QC8IcqCQ9s9nueqqpO9jH2N0jqpEkAM9ueaawksVP/7xOPUABRDkQDHcpcceS9o//WkI9M7vFgUiIMiBYh17bNfR+cCBTLcgOoIcKJW79Prr+X1m0tq1cepB3SPIgb7Yd98Q6M3NSd/hhzM6RxQEOVCOJ54ofDH0P/8zTj2oSwQ5kAZ36dZbk/ZFFzE6R78hyIG0/P3fFx6dDx4cpx7UDYIcSJu7tGxZ0t6+PQR65wukQEoIcqASjjmm6+h8v/2YbkFFEORAJblL27bl95lJS5fGqQc1iSAHKm3w4BDoEyYkfaecwugcqSHIgf7S2lr4YuinPhWnHtQMghzob52XKt5xR/Jpi0AfEORADIWWKjY0MN2CPikryM3s62a2ysxWmNlvzOygtAoD6oK79Mwz+X1m0pYtcepBJpU7Ir/J3Y909ymSFkm6qpftAXR26KFdR+cjRzI6R9HKCnJ37/gOh70lMckH9JW7tGtXfp+ZtGBBnHqQGWXPkZvZdWa2QdLfqocRuZnNMbMWM2tpa2srd7dAbWpsDIF+5plJ38yZjM7Ro16D3MyWmNmaAl/TJcndr3T3MZLmS7q4u8dx93nu3uzuzSNGjEjvGQC16Je/LLxU8aKL4tSDqmae0pInMxsr6QF3n9zbts3Nzd7S0pLKfoGa99BD0skn5/ft3h1WuaCumNkyd2/u3F/uqpXDOjSnS2ot5/EAFHDSSV1H542N0nHHxakHVWdAmT//DTObIGmPpOcl8f8+oFLabzG3336h/d//nSxVPOCAuLUhqrKC3N0/mlYhAIrwjneEQD/3XOnHPw59Bx4Y/uSdoXWLSTYgixYskPbsye8zk5YsiVMPoiLIgaxq/3yW+fOTvlNPZaliHSLIgaybNavwUsW5c+PUg35HkAO1wl1auzZpX399CPQdO+LVhH5BkAO15C//MgT60KFJ36BB0tix0UpC5RHkQC165ZX8W8xt2BBG5+vWxasJFUOQA7Wq/RZzl16a9I0fz8XQGkSQA7Xu5psLXwy9994o5SB9BDlQL9zDh3G1O+ccRuc1giAH6smZZ3ID6BpEkAP1yF3auDFpt98A+s0349WEPiPIgXo1alQI9MkdPnl6n32Ybskgghyod6tXSzt35veZhX5kAkEOQBowIIzOr7026TvySEbnGUGQA0hceWXhi6G33RanHhSFIAfQlbv0+98n7Tlzkk9bRNUhyAEUNnVq1+BuaJA+/OE49aBbBDmAnrlLL72UtB94IIzOX345Xk3IQ5AD6N2wYSHQTzst6XvXu7gYWiUIcgDFW7y48C3mHn00Tj2QRJADKFX7Rc/vfS/pmzqV0XlEBDmAvvnsZwsvVbz++jj11DGCHEB53KVVq5L23Lkh0HfvjldTnSHIAZTviCO6js4HDJCmTIlSTr0hyAGkx116442kvXJlGJ1v3hyvpjpAkANI1957h0CfPTvpGzWKi6EVRJADqIw77yx8MfQXv4hSTi0jyAFUlrv0k58k7WnTGJ2njCAHUHnnnFN4dD5rVpx6agxBDqD/uEutrUn7nntCoL/1VryaagBBDqB/TZjQdXQ+ZAjTLWUgyAHE4d51JG4mPfVUnHoyLJUgN7N/MjM3s+FpPB6AOjFoUNeliu9+N6PzEpUd5GY2RtJpktaXXw6AutTdUsXvfjdKOVmTxoj8W5Iul8Q9oACUx126//6k/bnPcYu5IpQV5GY2XdImd19ZxLZzzKzFzFra2trK2S2AWjZ9euFbzF1+eZx6MsC8l3/pzGyJpAMLfOtKSXMlnebur5nZc5Ka3X1rbzttbm72lpaWPpQLoK5s3SqNGJHf98Yb4WMA6pCZLXP35s79vY7I3f0Ud5/c+UvSs5IOkbQyF+KjJf3BzAqFPgCUbvjwMDo/99ykb599pEMPjVdTFerz1Iq7r3b3/d19nLuPk7RR0jHuviW16gBACm8c6vj55s8+G+bOn346Xk1VhHXkALKhoSGMzu+4I+mbNImlikoxyHMj817nxwGgLBdeWHip4vz5ceqpAozIAWSTu7R6ddI+77y6XapIkAPIrsmTQ3Af2GGNRUODdMEF0UqKgSAHkH0vvCC9/nrSvuuuMDp/5ZV4NfUjghxAbdh33zA6/8IXkr5hw6TBg+PV1E8IcgC15T/+Q9qzJ2lv3x5G5088Ea+mCiPIAdSe9oue992X9L3vfTW7VJEgB1C7zj678FLF73wnTj0VQpADqH3u0p/+lLS/8IUQ6Lt2xaspRQQ5gPowfnwI9GOOSfqamqQzz4xXU0oIcgD1Zdkyadu2pP2rX4XR+QsvxKupTAQ5gPozeHAYnV9zTdJ30EGZvRhKkAOoX1ddVfhi6EMPxamnjwhyAHCXli5N2iefnKnROUEOAJJ00kmFR+df/3qcekpAkANAR+7S5s1J+6qrQqDv3Bmvpl4Q5ADQ2ciRIdA/9KGkb+BA6dpr49XUA4IcALrzwAP5bxr6l38Jo/O2tng1FUCQA0BPGhvD6LzjSpb995fOOCNeTZ0Q5ABQjBNPDIE+cWJoL14cRufLl8etSwQ5AJTmqaekdeuS9jHHSHffHfUWcwQ5AJRq3LgQ3J/7XGjPni1NmyZt2BClHIIcAPrqllvCssRvfjPMoU+aFG5ssXt3v5ZBkANAOQYMkC67TFqzRjr+eOnSS6UPfEBaubLfSiDIASANhxwSliv+6EfSc89J73mPdMUV+Z+0WCEEOQCkxUyaOVNqbQ3z5jfcIB1xhLRkSUV3S5ADQNqGDZNuvz3Mm5tJp54agn3r1orsjiAHgEo58URp1SrpyivDlMvEidLvfpf6bghyAKikIUPCZ7QsXx7WnB92WOq7GJD6IwIAupo8ObwbtAIYkQNAxhHkAJBxBDkAZFxZQW5mXzWzTWa2Ivd1ZlqFAQCKk8bFzm+5+7+m8DgAgD5gagUAMi6NIL/YzFaZ2R1m9s7uNjKzOWbWYmYtbVV2myQAyDLzXj4M3cyWSDqwwLeulPSYpK2SXNLXJY1090/2ttPm5mZvaWkpvVoAqGNmtszdm7v09xbkJexgnKRF7j65iG3bJD1f5EMPV/jHAr3jWBWH41QcjlNx+vM4HezuIzp3lnWx08xGuvsLuebZktYU83OFCulhHy2F/gVCVxyr4nCcisNxKk41HKdyV63caGZTFKZWnpP02XILAgCUpqwgd/fz0yoEANA3WVh+OC92ARnCsSoOx6k4HKfiRD9OqV3sBADEkYUROQCgBwQ5AGRcVQe5mZ1hZmvN7BkzuyJ2PdXCzMaY2W/N7Ckze9LMLs31DzOzB83sf3J/dvtO23piZo1mttzMFuXah5jZ47nz6sdmNjB2jdXAzIaa2b1m1mpmT5vZBzinujKzf8y97taY2T1mNjj2OVW1QW5mjZJukfQhSZMkzTSzSXGrqhq7JP2Tu0+S9H5Jn88dmyskLXX3wyQtzbUhXSrp6Q7tGxQ+7O0vJL0i6VNRqqo+/y7p1+5+uKSjFI4Z51QHZjZK0iWSmnNvfmyUdK4in1NVG+SS3ifpGXd/1t13SFogaXrkmqqCu7/g7n/I/f1/FV5woxSOz125ze6SNCNKgVXEzEZL+rCk7+faJukkSffmNuE4STKz/SR9UNLtkuTuO9z9VXFOFTJA0hAzGyBpL0kvKPI5Vc1BPkrShg7tjbk+dJD7aISjJT0u6YAO77TdIumAWHVVkZslXS5pT679LkmvuvuuXJvzKjhEUpuk/5Obhvq+me0tzqk87r5J0r9KWq8Q4K9JWqbI51Q1Bzl6YWb7SPqZpH9w99c7fs/DutK6XltqZn8j6c/uvix2LRkwQNIxkr7r7kdLelOdplE4p6TcNYLpCv/wHSRpb0lnRC1K1R3kmySN6dAeneuDJDNrUgjx+e5+X677RTMbmfv+SEl/jlVflZgqaZqZPacwNXeSwjzw0Nx/iyXOq3YbJW1098dz7XsVgp1zKt8pkta5e5u775R0n8J5FvWcquYgf0LSYbmrwQMVLij8PHJNVSE3z3u7pKfd/d86fOvnkmbn/j5b0v/t79qqibt/xd1Hu/s4hfPnIXf/W0m/lfSx3GZ1f5wkyd23SNpgZhNyXSdLekqcU52tl/R+M9sr9zpsP05Rz6mqfmdn7h6gNytcGb7D3a+LW1F1MLPjJT0iabWSud+5CvPkP5E0VuFjgj/u7i9HKbLKmNlfS/qiu/+NmY1XGKEPk7Rc0nnuvj1ieVUh9wF435c0UNKzki5UGOxxTnVgZtdI+oTC6rHlkj6tMCce7Zyq6iAHAPSumqdWAABFIMgBIOMIcgDIOIIcADKOIAeAjCPIASDjCHIAyLj/D53dhhqw3vAPAAAAAElFTkSuQmCC",
      "text/plain": [
       "<Figure size 432x288 with 1 Axes>"
      ]
     },
     "metadata": {
      "needs_background": "light"
     },
     "output_type": "display_data"
    }
   ],
   "source": [
    "y_set_to_use2 = [SGDR.coef_ * x + SGDR.intercept_ for x in x_training_set]\n",
    "\n",
    "plt.scatter(x_training_set, y_training_set)\n",
    "plt.plot(x_training_set, y_set_to_use2, color='red')\n",
    "plt.show()"
   ]
  },
  {
   "cell_type": "code",
   "execution_count": 199,
   "id": "2300fd5f",
   "metadata": {},
   "outputs": [],
   "source": [
    "SGDR = SGDRegressor(loss='epsilon_insensitive',penalty=None,alpha=0.0001,max_iter=1000, tol=1e-3, epsilon=0.1)"
   ]
  },
  {
   "cell_type": "code",
   "execution_count": 200,
   "id": "5f2d7336",
   "metadata": {},
   "outputs": [],
   "source": [
    "line = SGDR.fit(x_training_set, y_training_set, coef_init=-1, intercept_init=80)"
   ]
  },
  {
   "cell_type": "code",
   "execution_count": 201,
   "id": "bb13cbb8",
   "metadata": {},
   "outputs": [
    {
     "name": "stdout",
     "output_type": "stream",
     "text": [
      "[-0.74311156] [80.2244218]\n"
     ]
    }
   ],
   "source": [
    "print(SGDR.coef_, SGDR.intercept_)"
   ]
  },
  {
   "cell_type": "code",
   "execution_count": 202,
   "id": "e4db0f8a",
   "metadata": {},
   "outputs": [
    {
     "data": {
      "image/png": "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",
      "text/plain": [
       "<Figure size 432x288 with 1 Axes>"
      ]
     },
     "metadata": {
      "needs_background": "light"
     },
     "output_type": "display_data"
    }
   ],
   "source": [
    "y_set_to_use3 = [SGDR.coef_ * x + SGDR.intercept_ for x in x_training_set]\n",
    "\n",
    "plt.scatter(x_training_set, y_training_set)\n",
    "plt.plot(x_training_set, y_set_to_use3, color='red')\n",
    "plt.show()"
=======
   "execution_count": 515,
   "id": "b4a8d016",
   "metadata": {},
   "outputs": [],
   "source": [
    "y_set_to_use = [19,73,51,54,47,48,37,15,4,89,50,88,91,77,57,36,96,61,91,71,87,99,11,39]"
>>>>>>> 95139602723fe8f4b85206e1fa4c5fa8484f7d3f
   ]
  }
 ],
 "metadata": {
  "kernelspec": {
   "display_name": "Python 3",
   "language": "python",
   "name": "python3"
  },
  "language_info": {
   "codemirror_mode": {
    "name": "ipython",
    "version": 3
   },
   "file_extension": ".py",
   "mimetype": "text/x-python",
   "name": "python",
   "nbconvert_exporter": "python",
   "pygments_lexer": "ipython3",
<<<<<<< HEAD
   "version": "3.10.0"
=======
   "version": "3.9.1"
>>>>>>> 95139602723fe8f4b85206e1fa4c5fa8484f7d3f
  }
 },
 "nbformat": 4,
 "nbformat_minor": 5
}
