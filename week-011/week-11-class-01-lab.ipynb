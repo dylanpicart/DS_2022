{
 "cells": [
  {
   "cell_type": "markdown",
   "metadata": {},
   "source": [
    "## Question 1\n",
    "Given an array of meeting time intervals where ```intervals[i] = [starti, endi]```, determine if a person could attend all meetings within a 24 hour time period. \n",
    "> Meeting times are in hours in a 24hour clock.\n",
    "\n",
    " \n",
    "\n",
    "Example 1:\n",
    "```\n",
    "Input: intervals = [[0,3],[2,6],[13,16]]\n",
    "Output: false\n",
    "```\n",
    "Example 2:\n",
    "```\n",
    "Input: intervals = [[7,10],[2,4]]\n",
    "Output: true\n",
    "```"
   ]
  },
  {
<<<<<<< HEAD
   "cell_type": "code",
   "execution_count": null,
   "metadata": {},
   "outputs": [],
   "source": [
    "def canAttendMeetings(intervals):\n",
    "  #Sort the intervals based on first value\n",
    "  intervals.sort()\n",
    "  for i in range(len(intervals)-1):\n",
    "    #If the end of the current interval is greather than the start of the next interval, return false\n",
    "    if  intervals[i][1] > intervals[i+1][0]:\n",
    "      return False\n",
    "  return True"
   ]
  },
  {
   "cell_type": "code",
   "execution_count": null,
   "metadata": {},
   "outputs": [],
   "source": [
    "def meetings(intervals):\n",
    "  intervals.sort(key = lambda x:x[0])\n",
    "  for i in range(len(intervals)-1):\n",
    "    if intervals[i][1] >= intervals[i+1][0]:\n",
    "      return False\n",
    "  return True\n",
    "\n",
    "intervals = [[0,3],[2,6],[13,16]]\n",
    "meetings(intervals)\n"
   ]
  },
  {
=======
>>>>>>> 95139602723fe8f4b85206e1fa4c5fa8484f7d3f
   "cell_type": "markdown",
   "metadata": {},
   "source": [
    "## Question 2\n",
    "Design a class that takes \n",
    "- in a list of integers \n",
    "- stores the list \n",
    "- runs a sorting algorithm of your choosing \n",
    "- Run the sorting algorithm through a class object\n",
    "- Define the Big O of that algorithm"
   ]
  },
  {
<<<<<<< HEAD
   "cell_type": "code",
   "execution_count": null,
   "metadata": {},
   "outputs": [],
   "source": [
    "class Coints():\n",
    "    def __init__(self)\n",
    "    \n",
    "    "
   ]
  },
  {
=======
>>>>>>> 95139602723fe8f4b85206e1fa4c5fa8484f7d3f
   "cell_type": "markdown",
   "metadata": {},
   "source": [
    "## Question 3\n",
    "Create a class named Person with properties for:\n",
    "- first_name\n",
    "- last_name \n",
    "- print_name method\n",
    "\n",
    "Create a class named Student:\n",
    " - Inherit the properties and methods from the Person class\n",
    " - Add a property called graduation_year "
   ]
  },
  {
<<<<<<< HEAD
   "cell_type": "code",
   "execution_count": 6,
   "metadata": {},
   "outputs": [],
   "source": [
    "class Person():\n",
    "    def __init__(self, first_name, last_name):\n",
    "        self.first_name = first_name\n",
    "        self.last_name = last_name\n",
    "        \n",
    "    def print_name(self):\n",
    "        print(self.first_name, self.last_name)\n",
    "        \n",
    "class Student(Person):\n",
    "    def __init__(self, first_name, last_name, graduation_year):\n",
    "        super().__init__(first_name, last_name)\n",
    "        self.graduation_year = graduation_year"
   ]
  },
  {
   "cell_type": "code",
   "execution_count": 7,
   "metadata": {},
   "outputs": [],
   "source": [
    "a = Person('Anna', 'Risolo')\n",
    "b = Student('Billy', 'Abelido', 2016)"
   ]
  },
  {
   "cell_type": "code",
   "execution_count": 8,
   "metadata": {},
   "outputs": [
    {
     "name": "stdout",
     "output_type": "stream",
     "text": [
      "Anna Risolo\n",
      "Billy Abelido\n"
     ]
    }
   ],
   "source": [
    "a.print_name()\n",
    "b.print_name()"
   ]
  },
  {
=======
>>>>>>> 95139602723fe8f4b85206e1fa4c5fa8484f7d3f
   "cell_type": "markdown",
   "metadata": {},
   "source": [
    "## Question 4\n",
<<<<<<< HEAD
    "Using two words explain the benefits of inheritance.\n",
    "\n",
    "Inheritance is a good way to organize objects because it enables you to focus on the essential differences between classes. With a parent class, the commonalities between that class and the child class can be expressed in one class. However within the child class we could differentiate from our parent class, while keeping the essential attributes from that class for application. "
=======
    "Using two words explain the benefits of inheritance."
>>>>>>> 95139602723fe8f4b85206e1fa4c5fa8484f7d3f
   ]
  },
  {
   "cell_type": "markdown",
   "metadata": {},
   "source": [
    "## Question 5\n",
    "\n",
    "Let's utilize our DataFrame from in class to make some visual graphs!\n",
    "- import matplotlib\n",
    "- read https://matplotlib.org/stable/api/_as_gen/matplotlib.pyplot.scatter.html on how to make scatter plots\n",
    "- read https://matplotlib.org/stable/api/_as_gen/matplotlib.pyplot.figure.html on how to make figures using matplotlib\n",
    "- create a figure of 4 scatter plots using grades from each quarter from our DataFrame as the y-axis and the Faculty Names as the x-axis.\n",
    "\n",
    "> Hints: \n",
    "> Use the add_subplot(rows, columns, position) method to add plots to your figure\n",
    "> Use set_title(string) method to add a title to your plots; ex: plot.set_title('First Quarter')"
   ]
  },
  {
   "cell_type": "markdown",
   "metadata": {},
   "source": [
    "### Your scatterplots should look like this:"
   ]
  },
  {
   "cell_type": "markdown",
   "metadata": {},
   "source": [
    "![TKH-Teachback](scatter_plots.jpg)"
   ]
  },
  {
<<<<<<< HEAD
   "cell_type": "code",
   "execution_count": null,
   "metadata": {},
   "outputs": [],
   "source": [
    "import matplotlib"
   ]
  },
  {
   "cell_type": "code",
   "execution_count": null,
   "metadata": {},
   "outputs": [],
   "source": [
    "import pandas as pd\n",
    "import names \n",
    "import random\n",
    "import numpy as np"
   ]
  },
  {
   "cell_type": "code",
   "execution_count": null,
   "metadata": {},
   "outputs": [],
   "source": [
    "student_names = []\n",
    "for i in range(100):\n",
    "    student_names.append(names.get_first_name())\n",
    "\n",
    "# Now let's make random grades for each student\n",
    "# to do that we need to use the random library\n",
    "first_quarter = []\n",
    "for i in range(100):\n",
    "    first_quarter.append(random.randint(45, 100))\n",
    "\n",
    "second_quarter = []\n",
    "for i in range(100):\n",
    "    second_quarter.append(random.randint(45, 100))\n",
    "\n",
    "third_quarter = []\n",
    "for i in range(100):\n",
    "    third_quarter.append(random.randint(45, 100))\n",
    "\n",
    "fourth_quarter = []\n",
    "for i in range(100):\n",
    "    fourth_quarter.append(random.randint(45, 100))\n",
    "\n",
    "\n",
    "# Let's make some Faculty members in our school\n",
    "faculty_names = []\n",
    "for i in range(5):\n",
    "    faculty_names.append(names.get_first_name())\n",
    "\n",
    "# Let's make the list larger with duplicates of the first 5 names so we can make classes of 20 students per faculty\n",
    "faculty_names = list(np.repeat(faculty_names, 20))\n",
    "\n",
    "# We can use the shuffle method from the random library to shuffle our list and randomize it\n",
    "random.shuffle(faculty_names)\n",
    "\n",
    "\n",
    "# Let's create a dictionary of our school\n",
    "school_information = {\n",
    "    'Student Names': student_names,\n",
    "    'First Semester': first_quarter,\n",
    "    'Second Semester': second_quarter,\n",
    "    'Third Semester': third_quarter,\n",
    "    'Fourth Semester': fourth_quarter,\n",
    "    'Faculty Name' : faculty_names\n",
    "}\n",
    "\n",
    "# Now let's make a Database using our dictionary\n",
    "school = pd.DataFrame(data=school_information)\n",
    "school"
   ]
  },
  {
   "cell_type": "code",
   "execution_count": null,
   "metadata": {},
   "outputs": [],
   "source": [
    "for i in school['Faculty Name']:\n",
    "  print i"
   ]
  },
  {
=======
>>>>>>> 95139602723fe8f4b85206e1fa4c5fa8484f7d3f
   "cell_type": "markdown",
   "metadata": {},
   "source": [
    "### Bonus Question\n",
    "\n",
    "Using our DataFrame and the pandas library, create 5 separate DataFrames of each Faculty and their class. Then display which class has the highest average grade using our get_average method from the comparable module.\n",
    "\n",
    "> Hints:\n",
    "> Create a new DataFrame by comparing each student's Faculty member and separating them by the name of the Faculty member (there should be 20 students per faculty)"
   ]
  }
 ],
 "metadata": {
<<<<<<< HEAD
  "interpreter": {
   "hash": "639e9cd4bdad712cd2a7c4c9b53f658627a24355d3f9e4cdd83ed32a6a8b3c7f"
  },
  "kernelspec": {
   "display_name": "Python 3.9.6 64-bit",
   "language": "python",
   "name": "python3"
  },
  "language_info": {
   "codemirror_mode": {
    "name": "ipython",
    "version": 3
   },
   "file_extension": ".py",
   "mimetype": "text/x-python",
   "name": "python",
   "nbconvert_exporter": "python",
   "pygments_lexer": "ipython3",
   "version": "3.9.6"
=======
  "language_info": {
   "name": "python"
>>>>>>> 95139602723fe8f4b85206e1fa4c5fa8484f7d3f
  },
  "orig_nbformat": 4
 },
 "nbformat": 4,
 "nbformat_minor": 2
}
