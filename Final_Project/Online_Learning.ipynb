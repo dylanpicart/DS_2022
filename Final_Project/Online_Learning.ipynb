{
 "cells": [
  {
   "cell_type": "markdown",
   "metadata": {},
   "source": [
    "## Student Adaptability Levels in Online Education\n",
    "#### Dylan Picart"
   ]
  },
  {
   "cell_type": "markdown",
   "metadata": {},
   "source": [
    "### Objective\n",
    "Using a dataset that contains insightful student demographics, build a machine learning model that predicts which how well they'd adapt to online education."
   ]
  },
  {
   "cell_type": "markdown",
   "metadata": {},
   "source": [
    "### Sourcing Data\n",
    "I will be using a Kaggle Dataset to predict adaptability. The features in the dataset are critical components in determining the scores of students.\n",
    "\n",
    "Source: https://www.kaggle.com/datasets/mdmahmudulhasansuzan/students-adaptability-level-in-online-education"
   ]
  },
  {
   "cell_type": "markdown",
   "metadata": {},
   "source": [
    "##### Useful Imports"
   ]
  },
  {
   "cell_type": "code",
   "execution_count": 1,
   "metadata": {},
   "outputs": [],
   "source": [
    "import numpy as np\n",
    "import pandas as pd\n",
    "import matplotlib.pyplot as plt\n",
    "import seaborn as sns\n",
    "from sklearn.preprocessing import OneHotEncoder\n",
    "from sklearn.linear_model import SGDRegressor"
   ]
  },
  {
   "cell_type": "markdown",
   "metadata": {},
   "source": [
    "#### Load Data"
   ]
  },
  {
   "cell_type": "code",
   "execution_count": 8,
   "metadata": {},
   "outputs": [
    {
     "data": {
      "text/html": [
       "<div>\n",
       "<style scoped>\n",
       "    .dataframe tbody tr th:only-of-type {\n",
       "        vertical-align: middle;\n",
       "    }\n",
       "\n",
       "    .dataframe tbody tr th {\n",
       "        vertical-align: top;\n",
       "    }\n",
       "\n",
       "    .dataframe thead th {\n",
       "        text-align: right;\n",
       "    }\n",
       "</style>\n",
       "<table border=\"1\" class=\"dataframe\">\n",
       "  <thead>\n",
       "    <tr style=\"text-align: right;\">\n",
       "      <th></th>\n",
       "      <th>Gender</th>\n",
       "      <th>Age</th>\n",
       "      <th>Education Level</th>\n",
       "      <th>Institution Type</th>\n",
       "      <th>IT Student</th>\n",
       "      <th>Location</th>\n",
       "      <th>Load-shedding</th>\n",
       "      <th>Financial Condition</th>\n",
       "      <th>Internet Type</th>\n",
       "      <th>Network Type</th>\n",
       "      <th>Class Duration</th>\n",
       "      <th>Self Lms</th>\n",
       "      <th>Device</th>\n",
       "      <th>Adaptivity Level</th>\n",
       "    </tr>\n",
       "  </thead>\n",
       "  <tbody>\n",
       "    <tr>\n",
       "      <th>0</th>\n",
       "      <td>Boy</td>\n",
       "      <td>21-25</td>\n",
       "      <td>University</td>\n",
       "      <td>Non Government</td>\n",
       "      <td>No</td>\n",
       "      <td>Yes</td>\n",
       "      <td>Low</td>\n",
       "      <td>Mid</td>\n",
       "      <td>Wifi</td>\n",
       "      <td>4G</td>\n",
       "      <td>3-6</td>\n",
       "      <td>No</td>\n",
       "      <td>Tab</td>\n",
       "      <td>Moderate</td>\n",
       "    </tr>\n",
       "    <tr>\n",
       "      <th>1</th>\n",
       "      <td>Girl</td>\n",
       "      <td>21-25</td>\n",
       "      <td>University</td>\n",
       "      <td>Non Government</td>\n",
       "      <td>No</td>\n",
       "      <td>Yes</td>\n",
       "      <td>High</td>\n",
       "      <td>Mid</td>\n",
       "      <td>Mobile Data</td>\n",
       "      <td>4G</td>\n",
       "      <td>1-3</td>\n",
       "      <td>Yes</td>\n",
       "      <td>Mobile</td>\n",
       "      <td>Moderate</td>\n",
       "    </tr>\n",
       "    <tr>\n",
       "      <th>2</th>\n",
       "      <td>Girl</td>\n",
       "      <td>16-20</td>\n",
       "      <td>College</td>\n",
       "      <td>Government</td>\n",
       "      <td>No</td>\n",
       "      <td>Yes</td>\n",
       "      <td>Low</td>\n",
       "      <td>Mid</td>\n",
       "      <td>Wifi</td>\n",
       "      <td>4G</td>\n",
       "      <td>1-3</td>\n",
       "      <td>No</td>\n",
       "      <td>Mobile</td>\n",
       "      <td>Moderate</td>\n",
       "    </tr>\n",
       "    <tr>\n",
       "      <th>3</th>\n",
       "      <td>Girl</td>\n",
       "      <td>11-15</td>\n",
       "      <td>School</td>\n",
       "      <td>Non Government</td>\n",
       "      <td>No</td>\n",
       "      <td>Yes</td>\n",
       "      <td>Low</td>\n",
       "      <td>Mid</td>\n",
       "      <td>Mobile Data</td>\n",
       "      <td>4G</td>\n",
       "      <td>1-3</td>\n",
       "      <td>No</td>\n",
       "      <td>Mobile</td>\n",
       "      <td>Moderate</td>\n",
       "    </tr>\n",
       "    <tr>\n",
       "      <th>4</th>\n",
       "      <td>Girl</td>\n",
       "      <td>16-20</td>\n",
       "      <td>School</td>\n",
       "      <td>Non Government</td>\n",
       "      <td>No</td>\n",
       "      <td>Yes</td>\n",
       "      <td>Low</td>\n",
       "      <td>Poor</td>\n",
       "      <td>Mobile Data</td>\n",
       "      <td>3G</td>\n",
       "      <td>0</td>\n",
       "      <td>No</td>\n",
       "      <td>Mobile</td>\n",
       "      <td>Low</td>\n",
       "    </tr>\n",
       "  </tbody>\n",
       "</table>\n",
       "</div>"
      ],
      "text/plain": [
       "  Gender    Age Education Level Institution Type IT Student Location  \\\n",
       "0    Boy  21-25      University   Non Government         No      Yes   \n",
       "1   Girl  21-25      University   Non Government         No      Yes   \n",
       "2   Girl  16-20         College       Government         No      Yes   \n",
       "3   Girl  11-15          School   Non Government         No      Yes   \n",
       "4   Girl  16-20          School   Non Government         No      Yes   \n",
       "\n",
       "  Load-shedding Financial Condition Internet Type Network Type Class Duration  \\\n",
       "0           Low                 Mid          Wifi           4G            3-6   \n",
       "1          High                 Mid   Mobile Data           4G            1-3   \n",
       "2           Low                 Mid          Wifi           4G            1-3   \n",
       "3           Low                 Mid   Mobile Data           4G            1-3   \n",
       "4           Low                Poor   Mobile Data           3G              0   \n",
       "\n",
       "  Self Lms  Device Adaptivity Level  \n",
       "0       No     Tab         Moderate  \n",
       "1      Yes  Mobile         Moderate  \n",
       "2       No  Mobile         Moderate  \n",
       "3       No  Mobile         Moderate  \n",
       "4       No  Mobile              Low  "
      ]
     },
     "execution_count": 8,
     "metadata": {},
     "output_type": "execute_result"
    }
   ],
   "source": [
    "# Load the data from its source format into a pandas dataframe\n",
    "saoe_data = pd.read_csv('students_adaptability_level_online_education.csv')\n",
    "df = saoe_data.copy()\n",
    "df.head()"
   ]
  },
  {
   "cell_type": "code",
   "execution_count": 40,
   "metadata": {},
   "outputs": [
    {
     "name": "stdout",
     "output_type": "stream",
     "text": [
      "<class 'pandas.core.frame.DataFrame'>\n",
      "RangeIndex: 1205 entries, 0 to 1204\n",
      "Data columns (total 14 columns):\n",
      " #   Column               Non-Null Count  Dtype \n",
      "---  ------               --------------  ----- \n",
      " 0   Gender               1205 non-null   object\n",
      " 1   Age                  1205 non-null   object\n",
      " 2   Education Level      1205 non-null   object\n",
      " 3   Institution Type     1205 non-null   object\n",
      " 4   IT Student           1205 non-null   object\n",
      " 5   Location             1205 non-null   object\n",
      " 6   Load-shedding        1205 non-null   object\n",
      " 7   Financial Condition  1205 non-null   object\n",
      " 8   Internet Type        1205 non-null   object\n",
      " 9   Network Type         1205 non-null   object\n",
      " 10  Class Duration       1205 non-null   object\n",
      " 11  Self Lms             1205 non-null   object\n",
      " 12  Device               1205 non-null   object\n",
      " 13  Adaptivity Level     1205 non-null   object\n",
      "dtypes: object(14)\n",
      "memory usage: 131.9+ KB\n",
      "(1205, 14) None\n"
     ]
    }
   ],
   "source": [
    "print(df.shape, df.info())"
   ]
  },
  {
   "cell_type": "code",
   "execution_count": 7,
   "metadata": {},
   "outputs": [
    {
     "data": {
      "text/plain": [
       "Moderate    625\n",
       "Low         480\n",
       "High        100\n",
       "Name: Adaptivity Level, dtype: int64"
      ]
     },
     "execution_count": 7,
     "metadata": {},
     "output_type": "execute_result"
    }
   ],
   "source": [
    "df['Adaptivity Level'].value_counts()"
   ]
  },
  {
   "cell_type": "markdown",
   "metadata": {},
   "source": [
    "### Data Cleaning\n",
    "\n",
    "Next steps would involve creating a class to contain all of our functions we would use for data cleaning so we could pass different datasets and efficiently clean them."
   ]
  },
  {
   "cell_type": "code",
   "execution_count": 62,
   "metadata": {},
   "outputs": [
    {
     "name": "stdout",
     "output_type": "stream",
     "text": [
      "Null Values in Each Feature\n",
      "---------------------------\n",
      "Total Null Values:     0\n",
      "Gender                 0\n",
      "Age                    0\n",
      "Education Level        0\n",
      "Institution Type       0\n",
      "IT Student             0\n",
      "Location               0\n",
      "Load-shedding          0\n",
      "Financial Condition    0\n",
      "Internet Type          0\n",
      "Network Type           0\n",
      "Class Duration         0\n",
      "Self Lms               0\n",
      "Device                 0\n",
      "Adaptivity Level       0\n",
      "dtype: int64\n"
     ]
    }
   ],
   "source": [
    "# Show column(s) you're currently inspecting\n",
    "# Let's check for null values\n",
    "nulls = (\n",
    "         f'Null Values in Each Feature\\n'\n",
    "         f'---------------------------\\n'\n",
    "         f'Total Null Values:     {sum(df.isnull().sum())}\\n'\n",
    "         f'{df.isnull().sum()}'\n",
    ")\n",
    "print(nulls)"
   ]
  },
  {
   "cell_type": "markdown",
   "metadata": {},
   "source": [
    "### Exploratory Data Analysis"
   ]
  },
  {
   "cell_type": "code",
   "execution_count": 12,
   "metadata": {},
   "outputs": [],
   "source": [
    "# Font dictionaries for formatting\n",
    "font1 = {'family':'serif','color':'black','size':14}\n",
    "font2 = {'family':'serif','color':'black','size':12}"
   ]
  },
  {
   "cell_type": "code",
   "execution_count": 37,
   "metadata": {},
   "outputs": [
    {
     "data": {
      "image/png": "[encoded data removed]",
      "text/plain": [
       "<Figure size 432x360 with 1 Axes>"
      ]
     },
     "metadata": {},
     "output_type": "display_data"
    }
   ],
   "source": [
    "sns.set(font_scale=1.2)\n",
    "df['Adaptivity Level'].value_counts().plot(kind='bar', figsize=(6, 5), rot=0)\n",
    "plt.title(\"Adaptability Levels\", fontdict=font1)\n",
    "plt.xlabel(\"Adaptivity Level\", fontdict=font2), plt.ylabel(\"Number of Students\", fontdict=font2);"
   ]
  },
  {
   "cell_type": "code",
   "execution_count": 35,
   "metadata": {},
   "outputs": [
    {
     "data": {
      "image/png": "[encoded data removed]",
      "text/plain": [
       "<Figure size 432x360 with 1 Axes>"
      ]
     },
     "metadata": {},
     "output_type": "display_data"
    }
   ],
   "source": [
    "sns.set(font_scale=1.2)\n",
    "df['Education Level'].value_counts().plot(kind='bar', figsize=(6, 5), rot=0)\n",
    "plt.title(\"Education Levels\", fontdict=font1)\n",
    "plt.xlabel(\"Education Level\", fontdict=font2), plt.ylabel(\"Number of Students\", fontdict=font2);"
   ]
  },
  {
   "cell_type": "markdown",
   "metadata": {},
   "source": [
    "#### One Hot Encoding & Feature Engineering\n",
    "\n",
    "Fortunately, there are no null values in this dataset, so we can easily proceed. However, these features are not numerical and will not provide meaningful insight for our predictive model unless we one hot encode them."
   ]
  },
  {
   "cell_type": "code",
   "execution_count": 11,
   "metadata": {},
   "outputs": [],
   "source": [
    "def ohenc(arr_to_convert):\n",
    "    # Prepare & reshape column for OHE\n",
    "    column_as_array = np.array(arr_to_convert).reshape(-1, 1)\n",
    "    # Initialize our encoder\n",
    "    enc = OneHotEncoder(handle_unknown='ignore', sparse=False)\n",
    "    # Fit the column\n",
    "    enc.fit(column_as_array)\n",
    "    # Note this is a nested array, so we have to unpack with [0]\n",
    "    global ec\n",
    "    ec = enc.categories_[0]\n",
    "    # Transform column\n",
    "    ohe_conv_array = enc.transform(column_as_array)\n",
    "    # Set global variable so we can access created DataFrame outside the function\n",
    "    global df_ohe\n",
    "    # Concatenate into a seperate DataFrame to build our model\n",
    "    df_ohe = pd.DataFrame(data=ohe_conv_array, columns=ec)"
   ]
  },
  {
   "cell_type": "code",
   "execution_count": 45,
   "metadata": {},
   "outputs": [
    {
     "name": "stdout",
     "output_type": "stream",
     "text": [
      "21-25    374\n",
      "11-15    353\n",
      "16-20    278\n",
      "1-5       81\n",
      "26-30     68\n",
      "6-10      51\n",
      "Name: Age, dtype: int64\n",
      " Mobile Data    695\n",
      "Wifi           510\n",
      "Name: Internet Type, dtype: int64\n",
      " Mid     878\n",
      "Poor    242\n",
      "Rich     85\n",
      "Name: Financial Condition, dtype: int64\n"
     ]
    }
   ],
   "source": [
    "print(f\"{df['Age'].value_counts()}\\n {df['Internet Type'].value_counts()}\\n {df['Financial Condition'].value_counts()}\")"
   ]
  },
  {
   "cell_type": "markdown",
   "metadata": {},
   "source": [
    "Since there aren't many different values, we can one hot encode many of these series."
   ]
  },
  {
   "cell_type": "code",
   "execution_count": 47,
   "metadata": {},
   "outputs": [],
   "source": [
    "# One hot encode Age, Internet Type, Financial Condition\n",
    "ohenc(df['Age'])\n",
    "age = df_ohe\n",
    "\n",
    "ohenc(df['Gender'])\n",
    "gen = df_ohe\n",
    "\n",
    "ohenc(df['Internet Type'])\n",
    "inttyp = df_ohe\n",
    "\n",
    "ohenc(df['Financial Condition'])\n",
    "fc = df_ohe\n",
    "\n",
    "ohenc(df['Education Level'])\n",
    "ed = df_ohe\n",
    "\n",
    "ohenc(df['Network Type'])\n",
    "net = df_ohe\n",
    "\n",
    "ohenc(df['Device'])\n",
    "dev = df_ohe"
   ]
  },
  {
   "cell_type": "code",
   "execution_count": 57,
   "metadata": {},
   "outputs": [
    {
     "data": {
      "text/html": [
       "<div>\n",
       "<style scoped>\n",
       "    .dataframe tbody tr th:only-of-type {\n",
       "        vertical-align: middle;\n",
       "    }\n",
       "\n",
       "    .dataframe tbody tr th {\n",
       "        vertical-align: top;\n",
       "    }\n",
       "\n",
       "    .dataframe thead th {\n",
       "        text-align: right;\n",
       "    }\n",
       "</style>\n",
       "<table border=\"1\" class=\"dataframe\">\n",
       "  <thead>\n",
       "    <tr style=\"text-align: right;\">\n",
       "      <th></th>\n",
       "      <th>1-5</th>\n",
       "      <th>11-15</th>\n",
       "      <th>16-20</th>\n",
       "      <th>21-25</th>\n",
       "      <th>26-30</th>\n",
       "      <th>6-10</th>\n",
       "      <th>Boy</th>\n",
       "      <th>Girl</th>\n",
       "      <th>Mobile Data</th>\n",
       "      <th>Wifi</th>\n",
       "      <th>...</th>\n",
       "      <th>College</th>\n",
       "      <th>School</th>\n",
       "      <th>University</th>\n",
       "      <th>2G</th>\n",
       "      <th>3G</th>\n",
       "      <th>4G</th>\n",
       "      <th>Computer</th>\n",
       "      <th>Mobile</th>\n",
       "      <th>Tab</th>\n",
       "      <th>AdapLevel</th>\n",
       "    </tr>\n",
       "  </thead>\n",
       "  <tbody>\n",
       "    <tr>\n",
       "      <th>0</th>\n",
       "      <td>0.0</td>\n",
       "      <td>0.0</td>\n",
       "      <td>0.0</td>\n",
       "      <td>1.0</td>\n",
       "      <td>0.0</td>\n",
       "      <td>0.0</td>\n",
       "      <td>1.0</td>\n",
       "      <td>0.0</td>\n",
       "      <td>0.0</td>\n",
       "      <td>1.0</td>\n",
       "      <td>...</td>\n",
       "      <td>0.0</td>\n",
       "      <td>0.0</td>\n",
       "      <td>1.0</td>\n",
       "      <td>0.0</td>\n",
       "      <td>0.0</td>\n",
       "      <td>1.0</td>\n",
       "      <td>0.0</td>\n",
       "      <td>0.0</td>\n",
       "      <td>1.0</td>\n",
       "      <td>Moderate</td>\n",
       "    </tr>\n",
       "    <tr>\n",
       "      <th>1</th>\n",
       "      <td>0.0</td>\n",
       "      <td>0.0</td>\n",
       "      <td>0.0</td>\n",
       "      <td>1.0</td>\n",
       "      <td>0.0</td>\n",
       "      <td>0.0</td>\n",
       "      <td>0.0</td>\n",
       "      <td>1.0</td>\n",
       "      <td>1.0</td>\n",
       "      <td>0.0</td>\n",
       "      <td>...</td>\n",
       "      <td>0.0</td>\n",
       "      <td>0.0</td>\n",
       "      <td>1.0</td>\n",
       "      <td>0.0</td>\n",
       "      <td>0.0</td>\n",
       "      <td>1.0</td>\n",
       "      <td>0.0</td>\n",
       "      <td>1.0</td>\n",
       "      <td>0.0</td>\n",
       "      <td>Moderate</td>\n",
       "    </tr>\n",
       "    <tr>\n",
       "      <th>2</th>\n",
       "      <td>0.0</td>\n",
       "      <td>0.0</td>\n",
       "      <td>1.0</td>\n",
       "      <td>0.0</td>\n",
       "      <td>0.0</td>\n",
       "      <td>0.0</td>\n",
       "      <td>0.0</td>\n",
       "      <td>1.0</td>\n",
       "      <td>0.0</td>\n",
       "      <td>1.0</td>\n",
       "      <td>...</td>\n",
       "      <td>1.0</td>\n",
       "      <td>0.0</td>\n",
       "      <td>0.0</td>\n",
       "      <td>0.0</td>\n",
       "      <td>0.0</td>\n",
       "      <td>1.0</td>\n",
       "      <td>0.0</td>\n",
       "      <td>1.0</td>\n",
       "      <td>0.0</td>\n",
       "      <td>Moderate</td>\n",
       "    </tr>\n",
       "    <tr>\n",
       "      <th>3</th>\n",
       "      <td>0.0</td>\n",
       "      <td>1.0</td>\n",
       "      <td>0.0</td>\n",
       "      <td>0.0</td>\n",
       "      <td>0.0</td>\n",
       "      <td>0.0</td>\n",
       "      <td>0.0</td>\n",
       "      <td>1.0</td>\n",
       "      <td>1.0</td>\n",
       "      <td>0.0</td>\n",
       "      <td>...</td>\n",
       "      <td>0.0</td>\n",
       "      <td>1.0</td>\n",
       "      <td>0.0</td>\n",
       "      <td>0.0</td>\n",
       "      <td>0.0</td>\n",
       "      <td>1.0</td>\n",
       "      <td>0.0</td>\n",
       "      <td>1.0</td>\n",
       "      <td>0.0</td>\n",
       "      <td>Moderate</td>\n",
       "    </tr>\n",
       "    <tr>\n",
       "      <th>4</th>\n",
       "      <td>0.0</td>\n",
       "      <td>0.0</td>\n",
       "      <td>1.0</td>\n",
       "      <td>0.0</td>\n",
       "      <td>0.0</td>\n",
       "      <td>0.0</td>\n",
       "      <td>0.0</td>\n",
       "      <td>1.0</td>\n",
       "      <td>1.0</td>\n",
       "      <td>0.0</td>\n",
       "      <td>...</td>\n",
       "      <td>0.0</td>\n",
       "      <td>1.0</td>\n",
       "      <td>0.0</td>\n",
       "      <td>0.0</td>\n",
       "      <td>1.0</td>\n",
       "      <td>0.0</td>\n",
       "      <td>0.0</td>\n",
       "      <td>1.0</td>\n",
       "      <td>0.0</td>\n",
       "      <td>Low</td>\n",
       "    </tr>\n",
       "    <tr>\n",
       "      <th>...</th>\n",
       "      <td>...</td>\n",
       "      <td>...</td>\n",
       "      <td>...</td>\n",
       "      <td>...</td>\n",
       "      <td>...</td>\n",
       "      <td>...</td>\n",
       "      <td>...</td>\n",
       "      <td>...</td>\n",
       "      <td>...</td>\n",
       "      <td>...</td>\n",
       "      <td>...</td>\n",
       "      <td>...</td>\n",
       "      <td>...</td>\n",
       "      <td>...</td>\n",
       "      <td>...</td>\n",
       "      <td>...</td>\n",
       "      <td>...</td>\n",
       "      <td>...</td>\n",
       "      <td>...</td>\n",
       "      <td>...</td>\n",
       "      <td>...</td>\n",
       "    </tr>\n",
       "    <tr>\n",
       "      <th>1200</th>\n",
       "      <td>0.0</td>\n",
       "      <td>0.0</td>\n",
       "      <td>1.0</td>\n",
       "      <td>0.0</td>\n",
       "      <td>0.0</td>\n",
       "      <td>0.0</td>\n",
       "      <td>0.0</td>\n",
       "      <td>1.0</td>\n",
       "      <td>0.0</td>\n",
       "      <td>1.0</td>\n",
       "      <td>...</td>\n",
       "      <td>1.0</td>\n",
       "      <td>0.0</td>\n",
       "      <td>0.0</td>\n",
       "      <td>0.0</td>\n",
       "      <td>0.0</td>\n",
       "      <td>1.0</td>\n",
       "      <td>0.0</td>\n",
       "      <td>1.0</td>\n",
       "      <td>0.0</td>\n",
       "      <td>Low</td>\n",
       "    </tr>\n",
       "    <tr>\n",
       "      <th>1201</th>\n",
       "      <td>0.0</td>\n",
       "      <td>0.0</td>\n",
       "      <td>1.0</td>\n",
       "      <td>0.0</td>\n",
       "      <td>0.0</td>\n",
       "      <td>0.0</td>\n",
       "      <td>0.0</td>\n",
       "      <td>1.0</td>\n",
       "      <td>0.0</td>\n",
       "      <td>1.0</td>\n",
       "      <td>...</td>\n",
       "      <td>1.0</td>\n",
       "      <td>0.0</td>\n",
       "      <td>0.0</td>\n",
       "      <td>0.0</td>\n",
       "      <td>0.0</td>\n",
       "      <td>1.0</td>\n",
       "      <td>0.0</td>\n",
       "      <td>1.0</td>\n",
       "      <td>0.0</td>\n",
       "      <td>Moderate</td>\n",
       "    </tr>\n",
       "    <tr>\n",
       "      <th>1202</th>\n",
       "      <td>0.0</td>\n",
       "      <td>1.0</td>\n",
       "      <td>0.0</td>\n",
       "      <td>0.0</td>\n",
       "      <td>0.0</td>\n",
       "      <td>0.0</td>\n",
       "      <td>1.0</td>\n",
       "      <td>0.0</td>\n",
       "      <td>1.0</td>\n",
       "      <td>0.0</td>\n",
       "      <td>...</td>\n",
       "      <td>0.0</td>\n",
       "      <td>1.0</td>\n",
       "      <td>0.0</td>\n",
       "      <td>0.0</td>\n",
       "      <td>1.0</td>\n",
       "      <td>0.0</td>\n",
       "      <td>0.0</td>\n",
       "      <td>1.0</td>\n",
       "      <td>0.0</td>\n",
       "      <td>Moderate</td>\n",
       "    </tr>\n",
       "    <tr>\n",
       "      <th>1203</th>\n",
       "      <td>0.0</td>\n",
       "      <td>0.0</td>\n",
       "      <td>1.0</td>\n",
       "      <td>0.0</td>\n",
       "      <td>0.0</td>\n",
       "      <td>0.0</td>\n",
       "      <td>0.0</td>\n",
       "      <td>1.0</td>\n",
       "      <td>0.0</td>\n",
       "      <td>1.0</td>\n",
       "      <td>...</td>\n",
       "      <td>1.0</td>\n",
       "      <td>0.0</td>\n",
       "      <td>0.0</td>\n",
       "      <td>0.0</td>\n",
       "      <td>0.0</td>\n",
       "      <td>1.0</td>\n",
       "      <td>0.0</td>\n",
       "      <td>1.0</td>\n",
       "      <td>0.0</td>\n",
       "      <td>Low</td>\n",
       "    </tr>\n",
       "    <tr>\n",
       "      <th>1204</th>\n",
       "      <td>0.0</td>\n",
       "      <td>1.0</td>\n",
       "      <td>0.0</td>\n",
       "      <td>0.0</td>\n",
       "      <td>0.0</td>\n",
       "      <td>0.0</td>\n",
       "      <td>0.0</td>\n",
       "      <td>1.0</td>\n",
       "      <td>1.0</td>\n",
       "      <td>0.0</td>\n",
       "      <td>...</td>\n",
       "      <td>0.0</td>\n",
       "      <td>1.0</td>\n",
       "      <td>0.0</td>\n",
       "      <td>0.0</td>\n",
       "      <td>1.0</td>\n",
       "      <td>0.0</td>\n",
       "      <td>0.0</td>\n",
       "      <td>1.0</td>\n",
       "      <td>0.0</td>\n",
       "      <td>Moderate</td>\n",
       "    </tr>\n",
       "  </tbody>\n",
       "</table>\n",
       "<p>1205 rows × 23 columns</p>\n",
       "</div>"
      ],
      "text/plain": [
       "      1-5  11-15  16-20  21-25  26-30  6-10  Boy  Girl  Mobile Data  Wifi  \\\n",
       "0     0.0    0.0    0.0    1.0    0.0   0.0  1.0   0.0          0.0   1.0   \n",
       "1     0.0    0.0    0.0    1.0    0.0   0.0  0.0   1.0          1.0   0.0   \n",
       "2     0.0    0.0    1.0    0.0    0.0   0.0  0.0   1.0          0.0   1.0   \n",
       "3     0.0    1.0    0.0    0.0    0.0   0.0  0.0   1.0          1.0   0.0   \n",
       "4     0.0    0.0    1.0    0.0    0.0   0.0  0.0   1.0          1.0   0.0   \n",
       "...   ...    ...    ...    ...    ...   ...  ...   ...          ...   ...   \n",
       "1200  0.0    0.0    1.0    0.0    0.0   0.0  0.0   1.0          0.0   1.0   \n",
       "1201  0.0    0.0    1.0    0.0    0.0   0.0  0.0   1.0          0.0   1.0   \n",
       "1202  0.0    1.0    0.0    0.0    0.0   0.0  1.0   0.0          1.0   0.0   \n",
       "1203  0.0    0.0    1.0    0.0    0.0   0.0  0.0   1.0          0.0   1.0   \n",
       "1204  0.0    1.0    0.0    0.0    0.0   0.0  0.0   1.0          1.0   0.0   \n",
       "\n",
       "      ...  College  School  University   2G   3G   4G  Computer  Mobile  Tab  \\\n",
       "0     ...      0.0     0.0         1.0  0.0  0.0  1.0       0.0     0.0  1.0   \n",
       "1     ...      0.0     0.0         1.0  0.0  0.0  1.0       0.0     1.0  0.0   \n",
       "2     ...      1.0     0.0         0.0  0.0  0.0  1.0       0.0     1.0  0.0   \n",
       "3     ...      0.0     1.0         0.0  0.0  0.0  1.0       0.0     1.0  0.0   \n",
       "4     ...      0.0     1.0         0.0  0.0  1.0  0.0       0.0     1.0  0.0   \n",
       "...   ...      ...     ...         ...  ...  ...  ...       ...     ...  ...   \n",
       "1200  ...      1.0     0.0         0.0  0.0  0.0  1.0       0.0     1.0  0.0   \n",
       "1201  ...      1.0     0.0         0.0  0.0  0.0  1.0       0.0     1.0  0.0   \n",
       "1202  ...      0.0     1.0         0.0  0.0  1.0  0.0       0.0     1.0  0.0   \n",
       "1203  ...      1.0     0.0         0.0  0.0  0.0  1.0       0.0     1.0  0.0   \n",
       "1204  ...      0.0     1.0         0.0  0.0  1.0  0.0       0.0     1.0  0.0   \n",
       "\n",
       "      AdapLevel  \n",
       "0      Moderate  \n",
       "1      Moderate  \n",
       "2      Moderate  \n",
       "3      Moderate  \n",
       "4           Low  \n",
       "...         ...  \n",
       "1200        Low  \n",
       "1201   Moderate  \n",
       "1202   Moderate  \n",
       "1203        Low  \n",
       "1204   Moderate  \n",
       "\n",
       "[1205 rows x 23 columns]"
      ]
     },
     "execution_count": 57,
     "metadata": {},
     "output_type": "execute_result"
    }
   ],
   "source": [
    "# Concatenate our series together\n",
    "\n",
    "conc_df = pd.concat([age, gen, inttyp, fc, ed, net, dev], axis=1)\n",
    "\n",
    "conc_df['AdapLevel'] = df['Adaptivity Level']\n",
    "\n",
    "conc_df"
   ]
  },
  {
   "cell_type": "code",
   "execution_count": 58,
   "metadata": {},
   "outputs": [
    {
     "data": {
      "text/plain": [
       "0"
      ]
     },
     "execution_count": 58,
     "metadata": {},
     "output_type": "execute_result"
    }
   ],
   "source": [
    "# Check nulls\n",
    "sum(conc_df.isnull().sum())"
   ]
  },
  {
   "cell_type": "code",
   "execution_count": 59,
   "metadata": {},
   "outputs": [
    {
     "ename": "AttributeError",
     "evalue": "'DataFrame' object has no attribute 'AdapLevel'",
     "output_type": "error",
     "traceback": [
      "\u001b[1;31m---------------------------------------------------------------------------\u001b[0m",
      "\u001b[1;31mAttributeError\u001b[0m                            Traceback (most recent call last)",
      "\u001b[1;32m~\\AppData\\Local\\Temp/ipykernel_29224/3556316621.py\u001b[0m in \u001b[0;36m<module>\u001b[1;34m\u001b[0m\n\u001b[1;32m----> 1\u001b[1;33m \u001b[0mconc_df\u001b[0m\u001b[1;33m.\u001b[0m\u001b[0mcorr\u001b[0m\u001b[1;33m(\u001b[0m\u001b[1;33m)\u001b[0m\u001b[1;33m.\u001b[0m\u001b[0mAdapLevel\u001b[0m\u001b[1;33m\u001b[0m\u001b[1;33m\u001b[0m\u001b[0m\n\u001b[0m",
      "\u001b[1;32mc:\\Users\\dylan\\AppData\\Local\\Programs\\Python\\Python310\\lib\\site-packages\\pandas\\core\\generic.py\u001b[0m in \u001b[0;36m__getattr__\u001b[1;34m(self, name)\u001b[0m\n\u001b[0;32m   5485\u001b[0m         ):\n\u001b[0;32m   5486\u001b[0m             \u001b[1;32mreturn\u001b[0m \u001b[0mself\u001b[0m\u001b[1;33m[\u001b[0m\u001b[0mname\u001b[0m\u001b[1;33m]\u001b[0m\u001b[1;33m\u001b[0m\u001b[1;33m\u001b[0m\u001b[0m\n\u001b[1;32m-> 5487\u001b[1;33m         \u001b[1;32mreturn\u001b[0m \u001b[0mobject\u001b[0m\u001b[1;33m.\u001b[0m\u001b[0m__getattribute__\u001b[0m\u001b[1;33m(\u001b[0m\u001b[0mself\u001b[0m\u001b[1;33m,\u001b[0m \u001b[0mname\u001b[0m\u001b[1;33m)\u001b[0m\u001b[1;33m\u001b[0m\u001b[1;33m\u001b[0m\u001b[0m\n\u001b[0m\u001b[0;32m   5488\u001b[0m \u001b[1;33m\u001b[0m\u001b[0m\n\u001b[0;32m   5489\u001b[0m     \u001b[1;32mdef\u001b[0m \u001b[0m__setattr__\u001b[0m\u001b[1;33m(\u001b[0m\u001b[0mself\u001b[0m\u001b[1;33m,\u001b[0m \u001b[0mname\u001b[0m\u001b[1;33m:\u001b[0m \u001b[0mstr\u001b[0m\u001b[1;33m,\u001b[0m \u001b[0mvalue\u001b[0m\u001b[1;33m)\u001b[0m \u001b[1;33m->\u001b[0m \u001b[1;32mNone\u001b[0m\u001b[1;33m:\u001b[0m\u001b[1;33m\u001b[0m\u001b[1;33m\u001b[0m\u001b[0m\n",
      "\u001b[1;31mAttributeError\u001b[0m: 'DataFrame' object has no attribute 'AdapLevel'"
     ]
    }
   ],
   "source": [
    "conc_df.corr().AdapLevel"
   ]
  },
  {
   "cell_type": "code",
   "execution_count": 52,
   "metadata": {},
   "outputs": [
    {
     "data": {
      "text/plain": [
       "<AxesSubplot:>"
      ]
     },
     "execution_count": 52,
     "metadata": {},
     "output_type": "execute_result"
    },
    {
     "data": {
      "image/png": "[encoded data removed]",
      "text/plain": [
       "<Figure size 432x288 with 2 Axes>"
      ]
     },
     "metadata": {},
     "output_type": "display_data"
    }
   ],
   "source": [
    "sns.heatmap(conc_df.corr(), cmap='GnBu')\n"
   ]
  },
  {
   "cell_type": "code",
   "execution_count": null,
   "metadata": {},
   "outputs": [],
   "source": []
  },
  {
   "cell_type": "code",
   "execution_count": null,
   "metadata": {},
   "outputs": [],
   "source": []
  }
 ],
 "metadata": {
  "interpreter": {
   "hash": "f6e50919dca9dcf1bfe3a21af5f5f6314365d98f6791527d5c55195172cb198d"
  },
  "kernelspec": {
   "display_name": "Python 3.10.0 64-bit",
   "language": "python",
   "name": "python3"
  },
  "language_info": {
   "codemirror_mode": {
    "name": "ipython",
    "version": 3
   },
   "file_extension": ".py",
   "mimetype": "text/x-python",
   "name": "python",
   "nbconvert_exporter": "python",
   "pygments_lexer": "ipython3",
   "version": "3.10.0"
  },
  "orig_nbformat": 4
 },
 "nbformat": 4,
 "nbformat_minor": 2
}
