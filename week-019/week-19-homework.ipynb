{
 "cells": [
  {
   "cell_type": "markdown",
   "metadata": {
    "tags": []
   },
   "source": [
    "<div style=\"background: #000;\n",
    "            color: #FFF;\n",
    "            margin: 0px;\n",
    "                padding: 10px 0px 20px 0px;\n",
    "            text-align: center; \n",
    "                \">\n",
    "    <span style=\"margin-left: -15px;\"><img src=\"https://tkhv2-static.s3.amazonaws.com/static-final/assets/img/sec_logo2sec.png\"></img></span>\n",
    "    <h1 style=\"padding: 0px 0px 0px 0px;\">Week 19 Homework</h1>\n",
    "</div>"
   ]
  },
  {
   "cell_type": "markdown",
   "metadata": {
    "tags": []
   },
   "source": [
    "### Exercise 1A\n",
    "\n",
    "Using list comprehension, create a list with two for loops that generate the following output:\n",
    "\n",
    "[('0', '0'), ('0', '1'), ('1', '0'), ('1', '1')]"
   ]
  },
  {
   "cell_type": "code",
<<<<<<< HEAD
   "execution_count": 49,
   "metadata": {},
   "outputs": [
    {
     "name": "stdout",
     "output_type": "stream",
     "text": [
      "[('0', '0'), ('0', '1'), ('1', '0'), ('1', '1')]\n"
     ]
    }
   ],
   "source": [
    "a = ('0', '0', '1', '1')\n",
    "b = ('0', '1', '0', '1')\n",
    "x = zip(a, b)\n",
    "l = list(x)\n",
    "\n",
    "print(l)"
   ]
  },
  {
   "cell_type": "code",
   "execution_count": 48,
   "metadata": {},
   "outputs": [
    {
     "name": "stdout",
     "output_type": "stream",
     "text": [
      "solution is correct\n"
     ]
    }
   ],
   "source": [
    "a = ('0', '0', '1', '1')\n",
    "b = ('0', '1', '0', '1')\n",
    "\n",
    "l = [(a[i], b[i]) for i in range(len(a))]\n",
    "                      \n",
=======
   "execution_count": null,
   "metadata": {},
   "outputs": [],
   "source": [
    "l = None\n",
>>>>>>> 95139602723fe8f4b85206e1fa4c5fa8484f7d3f
    "\n",
    "try:\n",
    "    assert(l == [('0', '0'), ('0', '1'), ('1', '0'), ('1', '1')])\n",
    "    print(\"solution is correct\")\n",
    "except:\n",
    "    print(\"solution is incorrect\")"
   ]
  },
  {
   "cell_type": "markdown",
   "metadata": {},
   "source": [
    "### Exercise 1B\n",
    "\n",
    "Create a function that takes an arbitrary number of integer arguments and sums them."
   ]
  },
  {
   "cell_type": "code",
<<<<<<< HEAD
   "execution_count": 5,
=======
   "execution_count": 20,
>>>>>>> 95139602723fe8f4b85206e1fa4c5fa8484f7d3f
   "metadata": {},
   "outputs": [
    {
     "name": "stdout",
     "output_type": "stream",
     "text": [
<<<<<<< HEAD
      "solution is correct\n"
=======
      "solution is incorrect\n"
>>>>>>> 95139602723fe8f4b85206e1fa4c5fa8484f7d3f
     ]
    }
   ],
   "source": [
<<<<<<< HEAD
    "# Let's use the *args to allow our function to take in an arbitrary number of arguments\n",
    "def ex1b(*args):\n",
    "    # Iterate through all the potentially established arguments within args\n",
    "    for a in args:\n",
    "        # Return the sum of all elements in args\n",
    "        return sum(args)\n",
    "    \n",
=======
    "def ex1b():\n",
    "    pass\n",
>>>>>>> 95139602723fe8f4b85206e1fa4c5fa8484f7d3f
    "        \n",
    "try:\n",
    "    assert(ex1b(3,5,7) == 15)\n",
    "    assert(ex1b(2,4) == 6)\n",
    "    assert(ex1b(*range(10)) == 45)\n",
    "    print(\"solution is correct\")\n",
    "except:\n",
    "    print(\"solution is incorrect\")"
   ]
  },
  {
   "cell_type": "markdown",
   "metadata": {},
   "source": [
    "### Exercise 2:\n",
    "\n",
    "Given a positive integer, return its corresponding column title as appear in an Excel sheet.\n",
    "\n",
    "For example:\n",
    "\n",
    "```\n",
    "    1 -> A\n",
    "    2 -> B\n",
    "    3 -> C\n",
    "    ...\n",
    "    26 -> Z\n",
    "    27 -> AA\n",
    "    28 -> AB \n",
    "    ...\n",
    "```\n",
    "\n",
    "`Example 1:`  \n",
    "__Input__: 1  \n",
    "__Output__: \"A\"  \n",
    "\n",
    "`Example 2:`  \n",
    "__Input__: 28  \n",
    "__Output__: \"AB\"  \n",
    "\n",
    "`Example 3:`   \n",
    "__Input__: 701    \n",
    "__Output__: \"ZY\"  "
   ]
  },
  {
   "cell_type": "code",
   "execution_count": 18,
   "metadata": {},
   "outputs": [
    {
     "name": "stdout",
     "output_type": "stream",
     "text": [
<<<<<<< HEAD
      "solution is correct\n"
=======
      "solution is incorrect\n"
>>>>>>> 95139602723fe8f4b85206e1fa4c5fa8484f7d3f
     ]
    }
   ],
   "source": [
<<<<<<< HEAD
    "import string\n",
    "\n",
    "def ex2(num):\n",
    "    alphabet = string.ascii_uppercase\n",
    "    # set varable index to 0, makes the first letter of the alphabet string zero\n",
    "    index = num - 1\n",
    "    # level 0 is the 1st 26 columns after that use floor devision to start back at 0 for next level and so on\n",
    "    level = index // 26 \n",
    "    # if level is zero return alphabet index\n",
    "    if level ==0: \n",
    "        return alphabet[index]\n",
    "    else:\n",
    "        letter_1 = level - 1\n",
    "        # keep the index going out of range if past 26\n",
    "        level_2 = index - 26 * level \n",
    "        return f'{alphabet[letter_1]}{alphabet[level_2]}'\n",
    "    \n",
=======
    "def ex2(num):\n",
    "    pass\n",
>>>>>>> 95139602723fe8f4b85206e1fa4c5fa8484f7d3f
    "\n",
    "try:\n",
    "    assert(ex2(1) == \"A\")\n",
    "    assert(ex2(28) == \"AB\")\n",
    "    assert(ex2(701) == \"ZY\")\n",
    "    print(\"solution is correct\")\n",
    "except AssertionError:\n",
    "    print(\"solution is incorrect\")"
   ]
  },
  {
   "cell_type": "markdown",
   "metadata": {},
   "source": [
    "### Exercise 3: \n",
    "\n",
    "Given integer array `nums`, return the third maximum number in this array. If the third maximum does not exist, return the maximum number.\n",
    "\n",
    "`Example 1:`  \n",
    "__Input__: nums = [3,2,1]  \n",
    "__Output__: 1  \n",
    "__Explanation__: The third maximum is 1.  \n",
    "\n",
    "`Example 2:`  \n",
    "__Input__: nums = [1,2]  \n",
    "__Output__: 2  \n",
    "__Explanation__: The third maximum does not exist, so the maximum (2) is returned instead.  \n",
    "\n",
    "`Example 3:`  \n",
    "__Input__: nums = [2,2,3,1]  \n",
    "__Output__: 1  \n",
    "__Explanation__: Note that the third maximum here means the third maximum distinct number.\n",
    "Both numbers with value 2 are both considered as second maximum.  \n",
    " \n",
    " "
   ]
  },
  {
   "cell_type": "code",
<<<<<<< HEAD
   "execution_count": 40,
   "metadata": {},
   "outputs": [
    {
     "name": "stdout",
     "output_type": "stream",
     "text": [
      "2\n",
      "[2, 1]\n"
     ]
    }
   ],
   "source": [
    "# We will need to iterate through our list of ints to find the third max\n",
    "# We will need to compare the values in our list to each other\n",
    "\n",
    "nums = [1,2]\n",
    "othernums = list(set(nums))\n",
    "# Save the original length\n",
    "numsLen = len(nums)\n",
    "nums = othernums\n",
    "\n",
    "if (numsLen < 3):\n",
    "    nums = sorted(nums, reverse=True)\n",
    "    print(nums[0])\n",
    "else: \n",
    "    nums = sorted(nums, reverse=True)\n",
    "    print(nums[2])\n",
    "    \n",
    "print(nums)"
   ]
  },
  {
   "cell_type": "code",
   "execution_count": null,
   "metadata": {},
   "outputs": [],
   "source": [
    "if (len(nums) < 3):\n",
    "    sorted(nums, reverse=True)\n",
    "    print(nums[-1])\n",
    "else: \n",
    "    sorted(nums, reverse=True)\n",
    "    print(nums[2])"
   ]
  },
  {
   "cell_type": "code",
   "execution_count": 46,
=======
   "execution_count": 21,
>>>>>>> 95139602723fe8f4b85206e1fa4c5fa8484f7d3f
   "metadata": {},
   "outputs": [
    {
     "name": "stdout",
     "output_type": "stream",
     "text": [
<<<<<<< HEAD
      "solution is correct\n"
=======
      "solution is incorrect\n"
>>>>>>> 95139602723fe8f4b85206e1fa4c5fa8484f7d3f
     ]
    }
   ],
   "source": [
    "def ex3(nums):\n",
<<<<<<< HEAD
    "    othernums = list(set(nums))\n",
    "    # Save the original length\n",
    "    numsLen = len(nums)\n",
    "    nums = othernums\n",
    "\n",
    "    if (numsLen < 3):\n",
    "        nums = sorted(nums, reverse=True)\n",
    "        return nums[0]\n",
    "    else: \n",
    "        nums = sorted(nums, reverse=True)\n",
    "        return nums[2]\n",
=======
    "    return sorted(nums)[-3:][-1]\n",
>>>>>>> 95139602723fe8f4b85206e1fa4c5fa8484f7d3f
    "\n",
    "try:\n",
    "    assert(ex3([3,2,1]) == 1)\n",
    "    assert(ex3([1,2]) == 2)\n",
<<<<<<< HEAD
    "    assert(ex3([2,2,3,1]) == 1)\n",
=======
    "    #assert(ex2([2,2,3,1]) == 1)\n",
>>>>>>> 95139602723fe8f4b85206e1fa4c5fa8484f7d3f
    "    print(\"solution is correct\")\n",
    "except AssertionError:\n",
    "    print(\"solution is incorrect\")"
   ]
  },
  {
   "cell_type": "markdown",
   "metadata": {},
   "source": [
    "### Bonus Exercise 1:\n",
    "\n",
    "Given a string s containing just the characters `'('`, `')'`, `'{'`, `'}'`, `'['` and `']'`, determine if the input string is valid.\n",
    "\n",
    "An input string is valid if:\n",
    "* Open brackets must be closed by the same type of brackets.\n",
    "* Open brackets must be closed in the correct order.\n",
    "\n",
    "test cases:\n",
    "```\n",
    "Input: s = \"()\"\n",
    "Output: True\n",
    "\n",
    "Input: s = \"()[]{}\"\n",
    "Output: True\n",
    "\n",
    "Input: s = \"(]\"\n",
    "Output: False\n",
    "\n",
    "Input: s = \"([)]\"\n",
    "Output: False\n",
    "\n",
    "Input: s = \"{[]}\"\n",
    "Output: True\n",
    "```"
   ]
  },
  {
   "cell_type": "code",
   "execution_count": 30,
   "metadata": {},
   "outputs": [
    {
     "name": "stdout",
     "output_type": "stream",
     "text": [
      "solution is incorrect\n",
      "please check your code.\n"
     ]
    }
   ],
   "source": [
    "# complete the following function:\n",
    "def check_string(input):\n",
    "    pass\n",
    "\n",
    "\n",
    "# run the cell with the following code\n",
    "# to test your solution\n",
    "try:\n",
    "    assert(check_string(\"()\") == True)\n",
    "    assert(check_string(\"()[]{}\") == True)\n",
    "    assert(check_string(\"(]\") == False)\n",
    "    assert(check_string(\"([)]\") == False)\n",
    "    # bonus points:\n",
    "    # get this test case to work\n",
    "    #assert(check_string(\"{[]}\") == True)\n",
    "    print(\"solution is correct\")\n",
    "except AssertionError:\n",
    "    print(\"solution is incorrect\")\n",
    "    print(\"please check your code.\")"
   ]
  },
  {
   "cell_type": "markdown",
   "metadata": {
    "tags": []
   },
   "source": [
    "### Bonus Exercise 2:\n",
    "\n",
    "Given an int `n`, create a function that creates an `n` x `n` matrix containing increasing integers starting with 1 and write the matrix into a csv file. \n",
    "\n",
    "\n",
    "#### Example:\n",
    "```    \n",
    "Input: 1\n",
    "Output: output.csv\n",
    "```\n",
    "The `output.csv` file should contain:\n",
    "```\n",
    "1\n",
    "```\n",
    "#### Example:\n",
    "```    \n",
    "Input: 2\n",
    "Output: output.csv\n",
    "```\n",
    "The `output.csv` file should contain:\n",
    "\n",
    "```\n",
    "1,2\n",
    "3,4\n",
    "```\n",
    "\n",
    "\n",
    "#### Example:\n",
    "```    \n",
    "Input: 3\n",
    "Output: output.csv\n",
    "```\n",
    "The `output.csv` file should contain:\n",
    "\n",
    "```\n",
    "1,2,3\n",
    "4,5,6\n",
    "7,8,9\n",
    "```"
   ]
  },
  {
   "cell_type": "code",
   "execution_count": 139,
   "metadata": {},
   "outputs": [],
   "source": [
    "import csv\n",
    "\n",
    "# complete the following code:\n",
    "def matrix_to_csv(n):\n",
    "    pass\n",
    "\n",
    "matrix_to_csv(5)"
   ]
  },
  {
   "cell_type": "code",
   "execution_count": null,
   "metadata": {},
   "outputs": [],
   "source": []
  }
 ],
 "metadata": {
  "kernelspec": {
   "display_name": "Python 3",
   "language": "python",
   "name": "python3"
  },
  "language_info": {
   "codemirror_mode": {
    "name": "ipython",
    "version": 3
   },
   "file_extension": ".py",
   "mimetype": "text/x-python",
   "name": "python",
   "nbconvert_exporter": "python",
   "pygments_lexer": "ipython3",
<<<<<<< HEAD
   "version": "3.10.0"
=======
   "version": "3.8.8"
>>>>>>> 95139602723fe8f4b85206e1fa4c5fa8484f7d3f
  }
 },
 "nbformat": 4,
 "nbformat_minor": 4
}
