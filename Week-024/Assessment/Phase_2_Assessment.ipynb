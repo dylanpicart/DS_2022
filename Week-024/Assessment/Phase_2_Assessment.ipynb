{
 "cells": [
  {
   "cell_type": "markdown",
   "id": "32293a4e",
   "metadata": {},
   "source": [
    "# Phase 2 Assessment "
   ]
  },
  {
   "cell_type": "code",
   "execution_count": 2,
   "id": "f2601321",
   "metadata": {},
   "outputs": [],
   "source": [
    "import numpy as np\n",
    "import pandas as pd\n",
    "import matplotlib.pyplot as plt"
   ]
  },
  {
   "cell_type": "markdown",
   "id": "0a4099ae",
   "metadata": {},
   "source": [
    "#### Section 1 --- Python Fundamentals"
   ]
  },
  {
   "cell_type": "markdown",
   "id": "8af25370",
   "metadata": {},
   "source": [
    "Question 1:\n",
    "\n",
    "    Given an array of N length, return the object in the array that appears most frequently. In the case of a tie, return the object that appears first in the array.\n",
    "\n",
    "    If every object appears at the same frequency, return None.\n",
    "\n",
    "    Only the standard library and while and for loops should be used.\n",
    "\n",
    "    I.E.\n",
    "\n",
    "\n",
    "    [1,2,3,4] -> None\n",
    "\n",
    "    [1,1,2,2,3,4,5] -> 1. Even though 1 and 2 appear the same amount of times, 1 appears first.\n",
    "\n",
    "    [1,1,2,2,2,] -> 2"
   ]
  },
  {
   "cell_type": "code",
   "execution_count": 45,
   "id": "5edfff17",
   "metadata": {},
   "outputs": [
    {
     "name": "stdout",
     "output_type": "stream",
     "text": [
      "Incorrect\n"
     ]
    }
   ],
   "source": [
    "def most_frequent(arr):\n",
    "    # We will need to iterate through an array\n",
    "    for i in arr:\n",
    "        j = arr[i] + 1\n",
    "        # Let's use the count method in order to count duplicates in our elements\n",
    "        if arr.count(i) > 1:\n",
    "            # We will need a nested if statement to compare the element count to each other\n",
    "            if arr.count(i) > arr.count(j):\n",
    "                return arr.count(i)\n",
    "            elif arr.count(i) == arr.count(j):\n",
    "                return None\n",
    "            else:\n",
    "                return arr.count(j)\n",
    "        # For when there are no duplicates in the array\n",
    "        else:\n",
    "            return None\n",
    "        \n",
    "        \n",
    "\n",
    "try:\n",
    "    assert( most_frequent([1,2,3,4,5]) == None)\n",
    "    assert( most_frequent([1,2,3,4,5,\"a\",\"b\",\"a\"]) == \"a\")\n",
    "    assert( most_frequent([1,2,3,4,-5,\"a\",100,6,\"b\",-5]) == -5)\n",
    "    print(\"Correct\")\n",
    "except AssertionError:\n",
    "    print(\"Incorrect\")"
   ]
  },
  {
   "attachments": {},
   "cell_type": "markdown",
   "id": "3060ced8",
   "metadata": {},
   "source": [
    "Question 2:\n",
    "\n",
    "    Bubblesort works as follows.\n",
    "    \n",
    "    \n",
    "    It will compare an object in the array with the next object in the array. If the current object is larger than the next object, it will swap the two elements. It will do this until the array is sorted.\n",
    "    \n",
    "    \n",
    "    https://upload.wikimedia.org/wikipedia/commons/5/54/Sorting_bubblesort_anim.gif\n",
    "    https://upload.wikimedia.org/wikipedia/commons/0/06/Bubble-sort.gif\n",
    "    \n",
    "    \n",
    "    Implement Bubble Sort.\n",
    "    Explain the Time Complexity of your implementation, and the space complexity of your implementation.\n",
    "    While optimization is prefered, it is not necessary.\n",
    "    "
   ]
  },
  {
   "cell_type": "code",
   "execution_count": 41,
   "id": "f4b72092",
   "metadata": {},
   "outputs": [
    {
     "data": {
      "text/plain": [
       "[1, 2, 3, 4, 5]"
      ]
     },
     "execution_count": 41,
     "metadata": {},
     "output_type": "execute_result"
    }
   ],
   "source": [
    "def bubble_sort(arr):\n",
    "    # olen simply for optimized length \n",
    "    olen = len(arr) - 1\n",
    "    # First, iterate through the array\n",
    "    # We do not need to compare all elements, therefore we go in range (len(arr) - 1) to optimize\n",
    "    for i in range(olen):\n",
    "        # Set default\n",
    "        switch = False\n",
    "        # Nested iteration so that we compare our indexes within our array to each other\n",
    "        for j in range(olen - i):\n",
    "            # Current object is greater than the object to the right, therefore we bubble [sort]\n",
    "            if arr[j] > arr[j + 1]:\n",
    "                # Our default is no longer false\n",
    "                switch = True\n",
    "                # Here we actually swap the elements\n",
    "                arr[j], arr[j + 1] = arr[j + 1], arr[j]\n",
    "        # Once array is sorted, break\n",
    "        if not switch:\n",
    "            break  \n",
    "    return arr\n",
    "\n",
    "bubble_sort([2, 4, 3, 1, 5])\n",
    "\n",
    "# The time complexity of the bubble sort in O(n^2) (due to the nested for loops), unless the array is already sorted, which it is O(n)\n",
    "# The space complexity is a constant O(1) due to the amount of space required for this sort method being fixed"
   ]
  },
  {
   "cell_type": "markdown",
   "id": "cb14ab51",
   "metadata": {},
   "source": [
    "#### Section 2 --- Pandas Fundamentals"
   ]
  },
  {
   "cell_type": "markdown",
   "id": "e73a5b85",
   "metadata": {},
   "source": [
    "Question 1:\n",
    "    \n",
    "    Write your answers in the code blocks below.\n",
    "    \n",
    "    \n",
    "    \n",
    "    a) What are the two fundamental data structures in Pandas. How are they related?  \n",
    "    b) What is Vectorization?"
   ]
  },
  {
   "cell_type": "code",
   "execution_count": null,
   "id": "eb9e6566",
   "metadata": {},
   "outputs": [],
   "source": [
    "#A\n",
    "\n",
    "# Series and DataFrames are the fundamental data structures in Pandas. \n",
    "# We could imagine series as a collection of objects"
   ]
  },
  {
   "cell_type": "code",
   "execution_count": null,
   "id": "95fa9206",
   "metadata": {},
   "outputs": [],
   "source": [
    "#B\n",
    "\n",
    "# Vectorization is the application of mathematical operations on a set of values (ie: an array)"
   ]
  },
  {
   "cell_type": "markdown",
   "id": "6c3e9088",
   "metadata": {},
   "source": [
    "Question 2:\n",
    "\n",
    "    Using Pandas, return these values from the Titanic Dataframe.\n",
    "    \n",
    "    a) The Average Age\n",
    "    b) The amount of Null Ages\n",
    "    c) The count of all women that survived\n",
    "    d) The Passenger who survived with the longest name.\n",
    "    "
   ]
  },
  {
   "cell_type": "code",
   "execution_count": 3,
   "id": "d22fe1fd",
   "metadata": {},
   "outputs": [],
   "source": [
    "# Use this cell to import the Titanic CSV. Either use the weblink, or the csv that is in the Week 24 Folder.\n",
    "titanic = pd.read_csv(\"https://raw.githubusercontent.com/pandas-dev/pandas/main/doc/data/titanic.csv\")"
   ]
  },
  {
   "cell_type": "code",
   "execution_count": 7,
   "id": "a6e872bf",
   "metadata": {},
   "outputs": [
    {
     "data": {
      "text/plain": [
       "23.79929292929293"
      ]
     },
     "execution_count": 7,
     "metadata": {},
     "output_type": "execute_result"
    }
   ],
   "source": [
    "## A\n",
    "\n",
    "age = titanic['Age']\n",
    "# Let's create the formula for the average sum by dividing the sum of the passengers' ages by the number of passengers (891)\n",
    "avg_age = age.sum() / 891\n",
    "avg_age\n",
    "\n",
    "# Additionally, we could calculate the avg age without the null values by subtracting the isnull().sum() from 891\n",
    "# avg_age_wo_null = age.sum() / 714"
   ]
  },
  {
   "cell_type": "code",
   "execution_count": 10,
   "id": "f927d8c7",
   "metadata": {},
   "outputs": [
    {
     "data": {
      "text/plain": [
       "177"
      ]
     },
     "execution_count": 10,
     "metadata": {},
     "output_type": "execute_result"
    }
   ],
   "source": [
    "## B\n",
    "null_age = titanic['Age'].isnull().sum()\n",
    "null_age"
   ]
  },
  {
   "cell_type": "code",
   "execution_count": 39,
   "id": "603dff83",
   "metadata": {},
   "outputs": [
    {
     "data": {
      "text/html": [
       "<div>\n",
       "<style scoped>\n",
       "    .dataframe tbody tr th:only-of-type {\n",
       "        vertical-align: middle;\n",
       "    }\n",
       "\n",
       "    .dataframe tbody tr th {\n",
       "        vertical-align: top;\n",
       "    }\n",
       "\n",
       "    .dataframe thead th {\n",
       "        text-align: right;\n",
       "    }\n",
       "</style>\n",
       "<table border=\"1\" class=\"dataframe\">\n",
       "  <thead>\n",
       "    <tr style=\"text-align: right;\">\n",
       "      <th></th>\n",
       "      <th>PassengerId</th>\n",
       "      <th>Survived</th>\n",
       "      <th>Pclass</th>\n",
       "      <th>Name</th>\n",
       "      <th>Sex</th>\n",
       "      <th>Age</th>\n",
       "      <th>SibSp</th>\n",
       "      <th>Parch</th>\n",
       "      <th>Ticket</th>\n",
       "      <th>Fare</th>\n",
       "      <th>Cabin</th>\n",
       "      <th>Embarked</th>\n",
       "    </tr>\n",
       "  </thead>\n",
       "  <tbody>\n",
       "    <tr>\n",
       "      <th>1</th>\n",
       "      <td>2</td>\n",
       "      <td>1</td>\n",
       "      <td>1</td>\n",
       "      <td>Cumings, Mrs. John Bradley (Florence Briggs Th...</td>\n",
       "      <td>female</td>\n",
       "      <td>38.0</td>\n",
       "      <td>1</td>\n",
       "      <td>0</td>\n",
       "      <td>PC 17599</td>\n",
       "      <td>71.2833</td>\n",
       "      <td>C85</td>\n",
       "      <td>C</td>\n",
       "    </tr>\n",
       "    <tr>\n",
       "      <th>2</th>\n",
       "      <td>3</td>\n",
       "      <td>1</td>\n",
       "      <td>3</td>\n",
       "      <td>Heikkinen, Miss. Laina</td>\n",
       "      <td>female</td>\n",
       "      <td>26.0</td>\n",
       "      <td>0</td>\n",
       "      <td>0</td>\n",
       "      <td>STON/O2. 3101282</td>\n",
       "      <td>7.9250</td>\n",
       "      <td>NaN</td>\n",
       "      <td>S</td>\n",
       "    </tr>\n",
       "    <tr>\n",
       "      <th>3</th>\n",
       "      <td>4</td>\n",
       "      <td>1</td>\n",
       "      <td>1</td>\n",
       "      <td>Futrelle, Mrs. Jacques Heath (Lily May Peel)</td>\n",
       "      <td>female</td>\n",
       "      <td>35.0</td>\n",
       "      <td>1</td>\n",
       "      <td>0</td>\n",
       "      <td>113803</td>\n",
       "      <td>53.1000</td>\n",
       "      <td>C123</td>\n",
       "      <td>S</td>\n",
       "    </tr>\n",
       "    <tr>\n",
       "      <th>8</th>\n",
       "      <td>9</td>\n",
       "      <td>1</td>\n",
       "      <td>3</td>\n",
       "      <td>Johnson, Mrs. Oscar W (Elisabeth Vilhelmina Berg)</td>\n",
       "      <td>female</td>\n",
       "      <td>27.0</td>\n",
       "      <td>0</td>\n",
       "      <td>2</td>\n",
       "      <td>347742</td>\n",
       "      <td>11.1333</td>\n",
       "      <td>NaN</td>\n",
       "      <td>S</td>\n",
       "    </tr>\n",
       "    <tr>\n",
       "      <th>9</th>\n",
       "      <td>10</td>\n",
       "      <td>1</td>\n",
       "      <td>2</td>\n",
       "      <td>Nasser, Mrs. Nicholas (Adele Achem)</td>\n",
       "      <td>female</td>\n",
       "      <td>14.0</td>\n",
       "      <td>1</td>\n",
       "      <td>0</td>\n",
       "      <td>237736</td>\n",
       "      <td>30.0708</td>\n",
       "      <td>NaN</td>\n",
       "      <td>C</td>\n",
       "    </tr>\n",
       "    <tr>\n",
       "      <th>...</th>\n",
       "      <td>...</td>\n",
       "      <td>...</td>\n",
       "      <td>...</td>\n",
       "      <td>...</td>\n",
       "      <td>...</td>\n",
       "      <td>...</td>\n",
       "      <td>...</td>\n",
       "      <td>...</td>\n",
       "      <td>...</td>\n",
       "      <td>...</td>\n",
       "      <td>...</td>\n",
       "      <td>...</td>\n",
       "    </tr>\n",
       "    <tr>\n",
       "      <th>880</th>\n",
       "      <td>881</td>\n",
       "      <td>1</td>\n",
       "      <td>2</td>\n",
       "      <td>Shelley, Mrs. William (Imanita Parrish Hall)</td>\n",
       "      <td>female</td>\n",
       "      <td>25.0</td>\n",
       "      <td>0</td>\n",
       "      <td>1</td>\n",
       "      <td>230433</td>\n",
       "      <td>26.0000</td>\n",
       "      <td>NaN</td>\n",
       "      <td>S</td>\n",
       "    </tr>\n",
       "    <tr>\n",
       "      <th>882</th>\n",
       "      <td>883</td>\n",
       "      <td>0</td>\n",
       "      <td>3</td>\n",
       "      <td>Dahlberg, Miss. Gerda Ulrika</td>\n",
       "      <td>female</td>\n",
       "      <td>22.0</td>\n",
       "      <td>0</td>\n",
       "      <td>0</td>\n",
       "      <td>7552</td>\n",
       "      <td>10.5167</td>\n",
       "      <td>NaN</td>\n",
       "      <td>S</td>\n",
       "    </tr>\n",
       "    <tr>\n",
       "      <th>885</th>\n",
       "      <td>886</td>\n",
       "      <td>0</td>\n",
       "      <td>3</td>\n",
       "      <td>Rice, Mrs. William (Margaret Norton)</td>\n",
       "      <td>female</td>\n",
       "      <td>39.0</td>\n",
       "      <td>0</td>\n",
       "      <td>5</td>\n",
       "      <td>382652</td>\n",
       "      <td>29.1250</td>\n",
       "      <td>NaN</td>\n",
       "      <td>Q</td>\n",
       "    </tr>\n",
       "    <tr>\n",
       "      <th>887</th>\n",
       "      <td>888</td>\n",
       "      <td>1</td>\n",
       "      <td>1</td>\n",
       "      <td>Graham, Miss. Margaret Edith</td>\n",
       "      <td>female</td>\n",
       "      <td>19.0</td>\n",
       "      <td>0</td>\n",
       "      <td>0</td>\n",
       "      <td>112053</td>\n",
       "      <td>30.0000</td>\n",
       "      <td>B42</td>\n",
       "      <td>S</td>\n",
       "    </tr>\n",
       "    <tr>\n",
       "      <th>888</th>\n",
       "      <td>889</td>\n",
       "      <td>0</td>\n",
       "      <td>3</td>\n",
       "      <td>Johnston, Miss. Catherine Helen \"Carrie\"</td>\n",
       "      <td>female</td>\n",
       "      <td>NaN</td>\n",
       "      <td>1</td>\n",
       "      <td>2</td>\n",
       "      <td>W./C. 6607</td>\n",
       "      <td>23.4500</td>\n",
       "      <td>NaN</td>\n",
       "      <td>S</td>\n",
       "    </tr>\n",
       "  </tbody>\n",
       "</table>\n",
       "<p>314 rows × 12 columns</p>\n",
       "</div>"
      ],
      "text/plain": [
       "     PassengerId  Survived  Pclass  \\\n",
       "1              2         1       1   \n",
       "2              3         1       3   \n",
       "3              4         1       1   \n",
       "8              9         1       3   \n",
       "9             10         1       2   \n",
       "..           ...       ...     ...   \n",
       "880          881         1       2   \n",
       "882          883         0       3   \n",
       "885          886         0       3   \n",
       "887          888         1       1   \n",
       "888          889         0       3   \n",
       "\n",
       "                                                  Name     Sex   Age  SibSp  \\\n",
       "1    Cumings, Mrs. John Bradley (Florence Briggs Th...  female  38.0      1   \n",
       "2                               Heikkinen, Miss. Laina  female  26.0      0   \n",
       "3         Futrelle, Mrs. Jacques Heath (Lily May Peel)  female  35.0      1   \n",
       "8    Johnson, Mrs. Oscar W (Elisabeth Vilhelmina Berg)  female  27.0      0   \n",
       "9                  Nasser, Mrs. Nicholas (Adele Achem)  female  14.0      1   \n",
       "..                                                 ...     ...   ...    ...   \n",
       "880       Shelley, Mrs. William (Imanita Parrish Hall)  female  25.0      0   \n",
       "882                       Dahlberg, Miss. Gerda Ulrika  female  22.0      0   \n",
       "885               Rice, Mrs. William (Margaret Norton)  female  39.0      0   \n",
       "887                       Graham, Miss. Margaret Edith  female  19.0      0   \n",
       "888           Johnston, Miss. Catherine Helen \"Carrie\"  female   NaN      1   \n",
       "\n",
       "     Parch            Ticket     Fare Cabin Embarked  \n",
       "1        0          PC 17599  71.2833   C85        C  \n",
       "2        0  STON/O2. 3101282   7.9250   NaN        S  \n",
       "3        0            113803  53.1000  C123        S  \n",
       "8        2            347742  11.1333   NaN        S  \n",
       "9        0            237736  30.0708   NaN        C  \n",
       "..     ...               ...      ...   ...      ...  \n",
       "880      1            230433  26.0000   NaN        S  \n",
       "882      0              7552  10.5167   NaN        S  \n",
       "885      5            382652  29.1250   NaN        Q  \n",
       "887      0            112053  30.0000   B42        S  \n",
       "888      2        W./C. 6607  23.4500   NaN        S  \n",
       "\n",
       "[314 rows x 12 columns]"
      ]
     },
     "execution_count": 39,
     "metadata": {},
     "output_type": "execute_result"
    }
   ],
   "source": [
    "## C\n",
    "\n",
    "sex = titanic['Sex']\n",
    "female = sex.str.contains('female')\n",
    "titanic.loc[female]\n",
    "# 314 women survived\n"
   ]
  },
  {
   "cell_type": "code",
   "execution_count": 29,
   "id": "b1fd2a57",
   "metadata": {},
   "outputs": [
    {
     "data": {
      "text/html": [
       "<div>\n",
       "<style scoped>\n",
       "    .dataframe tbody tr th:only-of-type {\n",
       "        vertical-align: middle;\n",
       "    }\n",
       "\n",
       "    .dataframe tbody tr th {\n",
       "        vertical-align: top;\n",
       "    }\n",
       "\n",
       "    .dataframe thead th {\n",
       "        text-align: right;\n",
       "    }\n",
       "</style>\n",
       "<table border=\"1\" class=\"dataframe\">\n",
       "  <thead>\n",
       "    <tr style=\"text-align: right;\">\n",
       "      <th></th>\n",
       "      <th>PassengerId</th>\n",
       "      <th>Survived</th>\n",
       "      <th>Pclass</th>\n",
       "      <th>Name</th>\n",
       "      <th>Sex</th>\n",
       "      <th>Age</th>\n",
       "      <th>SibSp</th>\n",
       "      <th>Parch</th>\n",
       "      <th>Ticket</th>\n",
       "      <th>Fare</th>\n",
       "      <th>Cabin</th>\n",
       "      <th>Embarked</th>\n",
       "    </tr>\n",
       "  </thead>\n",
       "  <tbody>\n",
       "    <tr>\n",
       "      <th>307</th>\n",
       "      <td>308</td>\n",
       "      <td>1</td>\n",
       "      <td>1</td>\n",
       "      <td>Penasco y Castellana, Mrs. Victor de Satode (M...</td>\n",
       "      <td>female</td>\n",
       "      <td>17.0</td>\n",
       "      <td>1</td>\n",
       "      <td>0</td>\n",
       "      <td>PC 17758</td>\n",
       "      <td>108.9</td>\n",
       "      <td>C65</td>\n",
       "      <td>C</td>\n",
       "    </tr>\n",
       "  </tbody>\n",
       "</table>\n",
       "</div>"
      ],
      "text/plain": [
       "     PassengerId  Survived  Pclass  \\\n",
       "307          308         1       1   \n",
       "\n",
       "                                                  Name     Sex   Age  SibSp  \\\n",
       "307  Penasco y Castellana, Mrs. Victor de Satode (M...  female  17.0      1   \n",
       "\n",
       "     Parch    Ticket   Fare Cabin Embarked  \n",
       "307      0  PC 17758  108.9   C65        C  "
      ]
     },
     "execution_count": 29,
     "metadata": {},
     "output_type": "execute_result"
    }
   ],
   "source": [
    "## D\n",
    "\n",
    "# str.len() gets the length of each string in the column\n",
    "lengths = titanic['Name'].str.len()\n",
    "# Use numpy where method to establish condition where we compare the length of the string to the max length in our column\n",
    "argmax = np.where(lengths == lengths.max())[0]\n",
    "# Print out a [smaller] DataFrame representing the passenger with the longest name & surrounding info\n",
    "titanic.iloc[argmax]"
   ]
  },
  {
   "cell_type": "markdown",
   "id": "60f38fee",
   "metadata": {},
   "source": [
    "#### Section 3 --- Numpy and Matplotlib"
   ]
  },
  {
   "cell_type": "markdown",
   "id": "17cdddcb",
   "metadata": {},
   "source": [
    "Question 1:\n",
    "\n",
    "    a)What is the basic data structrure in Numpy?\n",
    "    b)What are the characteristics of it?\n",
    "    c)Why does Numpy prefer this Data Structure?\n",
    "    d)What are two examples of Data Structures built out of this Data Structure?"
   ]
  },
  {
   "cell_type": "code",
   "execution_count": null,
   "id": "dd6a8f2a",
   "metadata": {},
   "outputs": [],
   "source": [
    "#A \n",
    "\n",
    "# Arrays are the basic data structure in Numpy"
   ]
  },
  {
   "cell_type": "code",
   "execution_count": null,
   "id": "21f4a346",
   "metadata": {},
   "outputs": [],
   "source": [
    "#B\n",
    "\n",
    "# Arrays are homogenous, meaning that they have the same data type throughout the collection of elements"
   ]
  },
  {
   "cell_type": "code",
   "execution_count": null,
   "id": "c7780ba9",
   "metadata": {},
   "outputs": [],
   "source": [
    "#C\n",
    "# Because of the homogeneous nature, arithmetic operations are simpler to compute, \n",
    "# and they can handle the direct application of arithmetic operations as opposed to lists"
   ]
  },
  {
   "cell_type": "code",
   "execution_count": null,
   "id": "6891d0f3",
   "metadata": {},
   "outputs": [],
   "source": [
    "#C\n",
    "\n",
    "# Series and by extension DataFrames are built out of arrays\n",
    "# We also use arrays to create matrices"
   ]
  },
  {
   "cell_type": "markdown",
   "id": "8fb8cb0d",
   "metadata": {},
   "source": [
    "Question 2:"
   ]
  },
  {
   "cell_type": "markdown",
   "id": "5bdb6c80",
   "metadata": {},
   "source": [
    "Using the Titanic dataset, create a histogram that compares the amount of women who survived against the amount of men who survived."
   ]
  },
  {
   "cell_type": "code",
   "execution_count": 38,
   "id": "43e3a1f9",
   "metadata": {},
   "outputs": [
    {
     "data": {
      "text/plain": [
       "array([<AxesSubplot:title={'center':'0'}>,\n",
       "       <AxesSubplot:title={'center':'1'}>], dtype=object)"
      ]
     },
     "execution_count": 38,
     "metadata": {},
     "output_type": "execute_result"
    },
    {
     "data": {
      "image/png": "[encoded data removed]",
      "text/plain": [
       "<Figure size 432x288 with 2 Axes>"
      ]
     },
     "metadata": {
      "needs_background": "light"
     },
     "output_type": "display_data"
    }
   ],
   "source": [
    "titanic.hist(column='Sex', by='Survived', orientation='horizontal')"
   ]
  }
 ],
 "metadata": {
  "kernelspec": {
   "display_name": "Python 3",
   "language": "python",
   "name": "python3"
  },
  "language_info": {
   "codemirror_mode": {
    "name": "ipython",
    "version": 3
   },
   "file_extension": ".py",
   "mimetype": "text/x-python",
   "name": "python",
   "nbconvert_exporter": "python",
   "pygments_lexer": "ipython3",
   "version": "3.10.0"
  }
 },
 "nbformat": 4,
 "nbformat_minor": 5
}
