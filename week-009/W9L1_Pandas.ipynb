{
 "cells": [
  {
   "cell_type": "markdown",
   "metadata": {
    "id": "zndGg0rNFH7b"
   },
   "source": [
    "<div style=\"background: #000;\n",
    "            color: #FFF;\n",
    "            margin: 0px;\n",
    "                padding: 10px 0px 20px 0px;\n",
    "            text-align: center; \n",
    "                \">\n",
    "    <h1>Week 9 - Lab 1</h1>\n",
    "</div>"
   ]
  },
  {
   "cell_type": "markdown",
   "metadata": {},
   "source": [
    "# Exercise 1\n",
    "\n",
    "Follow the instruction given and install the Pandas Library in VS Code. After installation, input a picture to document that you have successfully installed the Pandas Library.\n",
    "\n",
    "https://pypi.org/project/pandas/\n",
    "\n",
    "In a New Terminal: Should be pypi:\n",
    "    \n",
    "    pip install pandas \n",
    "\n",
    "If you have the latest version of python:\n",
    "\n",
    "    pip3 install pandas \n",
    "\n",
    "Once you have the library create a simple dataframe of your choosing. Show your code."
   ]
  },
  {
   "cell_type": "code",
   "execution_count": 2,
   "metadata": {},
   "outputs": [
    {
     "name": "stdout",
     "output_type": "stream",
     "text": [
      "      Food  Price\n",
      "0    Apple  $1.99\n",
      "1  Oranges  $2.99\n"
     ]
    }
   ],
   "source": [
    "import pandas as pd\n",
    "import numpy as np\n",
    "\n",
    "a = {'Food' : ['Apple','Oranges'], 'Price' : ['$1.99', '$2.99']}\n",
    "\n",
    "df = pd.DataFrame(data = a)\n",
    "\n",
    "print(df)"
   ]
  },
  {
   "cell_type": "markdown",
   "metadata": {},
   "source": [
    "# Exercise 2\n",
    "\n",
    "Create a data frame using pandas that uses a conditional statement other than if ascending = false."
   ]
  },
  {
   "cell_type": "code",
   "execution_count": 2,
   "metadata": {},
   "outputs": [
    {
     "name": "stdout",
     "output_type": "stream",
     "text": [
      "      Food  Price\n",
      "1  Oranges  $2.99\n",
      "0    Apple  $1.99\n"
     ]
    }
   ],
   "source": [
    "# Create a data frame using pandas that uses a conditional statement other than if ascending = false.\n",
    "\n",
    "df.rename(columns={'Food': 'Pokemon_name', 'Fruits': 'Pokemon_speed'}, inplace=True)\n",
    "\n",
    "print(df)\n",
    "\n"
   ]
  },
  {
   "cell_type": "code",
   "execution_count": 3,
   "metadata": {},
   "outputs": [
    {
     "data": {
      "text/html": [
       "<div>\n",
       "<style scoped>\n",
       "    .dataframe tbody tr th:only-of-type {\n",
       "        vertical-align: middle;\n",
       "    }\n",
       "\n",
       "    .dataframe tbody tr th {\n",
       "        vertical-align: top;\n",
       "    }\n",
       "\n",
       "    .dataframe thead th {\n",
       "        text-align: right;\n",
       "    }\n",
       "</style>\n",
       "<table border=\"1\" class=\"dataframe\">\n",
       "  <thead>\n",
       "    <tr style=\"text-align: right;\">\n",
       "      <th></th>\n",
       "      <th>Fruits</th>\n",
       "      <th>Color</th>\n",
       "    </tr>\n",
       "  </thead>\n",
       "  <tbody>\n",
       "    <tr>\n",
       "      <th>2</th>\n",
       "      <td>Lime</td>\n",
       "      <td>Green</td>\n",
       "    </tr>\n",
       "    <tr>\n",
       "      <th>1</th>\n",
       "      <td>Orange</td>\n",
       "      <td>Orange</td>\n",
       "    </tr>\n",
       "    <tr>\n",
       "      <th>0</th>\n",
       "      <td>Lemon</td>\n",
       "      <td>Yellow</td>\n",
       "    </tr>\n",
       "    <tr>\n",
       "      <th>3</th>\n",
       "      <td>Bananas</td>\n",
       "      <td>Yellow</td>\n",
       "    </tr>\n",
       "  </tbody>\n",
       "</table>\n",
       "</div>"
      ],
      "text/plain": [
       "    Fruits   Color\n",
       "2     Lime   Green\n",
       "1   Orange  Orange\n",
       "0    Lemon  Yellow\n",
       "3  Bananas  Yellow"
      ]
     },
     "execution_count": 3,
     "metadata": {},
     "output_type": "execute_result"
    }
   ],
   "source": [
    "df2 = pd.DataFrame({\"Fruits\" : ['Lemon', 'Orange', 'Lime', 'Bananas'], \n",
    "                    \"Color\" : ['Yellow', 'Orange', 'Green', 'Yellow',]})\n",
    "df2 = df2.sort_values(by='Color',kind='quicksort')\n",
    "df2\n"
   ]
  },
  {
   "cell_type": "markdown",
   "metadata": {},
   "source": [
    "# Exercise 3\n",
    "\n",
    "Create a Data Frame using pandas with Names and Age and change the datatype of age from int to str."
   ]
  },
  {
   "cell_type": "code",
   "execution_count": 24,
   "metadata": {},
   "outputs": [
    {
     "name": "stdout",
     "output_type": "stream",
     "text": [
      "    Name  Age\n",
      "0   Matt   20\n",
      "1  Sarah   25\n",
      "2  Shaun   30\n",
      "Name    object\n",
      "Age      int64\n",
      "dtype: object\n",
      "Name    object\n",
      "Age      int64\n",
      "dtype: object\n"
     ]
    }
   ],
   "source": [
    "b = {'Name' : ['Matt', 'Sarah', 'Shaun'], 'Age' : [20, 25, 30]}\n",
    "\n",
    "df = pd.DataFrame(data = b)\n",
    "\n",
    "print(df)\n",
    "\n",
    "print(df.dtypes)\n",
    "\n",
    "df.astype('str').dtypes\n",
    "\n",
    "print(df.dtypes)"
   ]
  },
  {
   "cell_type": "markdown",
   "metadata": {},
   "source": [
    "# Exercise 4\n",
    "\n",
    "Write a data frame using pandas that contains a dictionary of column1 of 5 strings of letters, a column2 of 5 integers, another column3 of 5 integers and a column4 of 5 strings of letters with lower and upper cases."
   ]
  },
  {
   "cell_type": "code",
   "execution_count": 3,
   "metadata": {},
   "outputs": [
    {
     "data": {
      "text/html": [
       "<div>\n",
       "<style scoped>\n",
       "    .dataframe tbody tr th:only-of-type {\n",
       "        vertical-align: middle;\n",
       "    }\n",
       "\n",
       "    .dataframe tbody tr th {\n",
       "        vertical-align: top;\n",
       "    }\n",
       "\n",
       "    .dataframe thead th {\n",
       "        text-align: right;\n",
       "    }\n",
       "</style>\n",
       "<table border=\"1\" class=\"dataframe\">\n",
       "  <thead>\n",
       "    <tr style=\"text-align: right;\">\n",
       "      <th></th>\n",
       "      <th>Column 1</th>\n",
       "      <th>Column 2</th>\n",
       "      <th>Column 3</th>\n",
       "      <th>Column 4</th>\n",
       "    </tr>\n",
       "  </thead>\n",
       "  <tbody>\n",
       "    <tr>\n",
       "      <th>0</th>\n",
       "      <td>Lemon</td>\n",
       "      <td>5</td>\n",
       "      <td>30</td>\n",
       "      <td>Cookie</td>\n",
       "    </tr>\n",
       "    <tr>\n",
       "      <th>1</th>\n",
       "      <td>Apple</td>\n",
       "      <td>10</td>\n",
       "      <td>35</td>\n",
       "      <td>physics</td>\n",
       "    </tr>\n",
       "    <tr>\n",
       "      <th>2</th>\n",
       "      <td>Mango</td>\n",
       "      <td>15</td>\n",
       "      <td>40</td>\n",
       "      <td>Runner</td>\n",
       "    </tr>\n",
       "    <tr>\n",
       "      <th>3</th>\n",
       "      <td>Guava</td>\n",
       "      <td>20</td>\n",
       "      <td>45</td>\n",
       "      <td>pineapple</td>\n",
       "    </tr>\n",
       "    <tr>\n",
       "      <th>4</th>\n",
       "      <td>Berry</td>\n",
       "      <td>25</td>\n",
       "      <td>50</td>\n",
       "      <td>Vegetable</td>\n",
       "    </tr>\n",
       "  </tbody>\n",
       "</table>\n",
       "</div>"
      ],
      "text/plain": [
       "  Column 1  Column 2  Column 3   Column 4\n",
       "0    Lemon         5        30     Cookie\n",
       "1    Apple        10        35    physics\n",
       "2    Mango        15        40     Runner\n",
       "3    Guava        20        45  pineapple\n",
       "4    Berry        25        50  Vegetable"
      ]
     },
     "execution_count": 3,
     "metadata": {},
     "output_type": "execute_result"
    }
   ],
   "source": [
    "df3 = pd.DataFrame({\"Column 1\" : ['Lemon', 'Apple', 'Mango', 'Guava', 'Berry'], \n",
    "                    \"Column 2\" : [5, 10, 15, 20, 25], \"Column 3\" : [30, 35, 40, 45, 50],\n",
    "                    \"Column 4\" : ['Cookie', 'physics', 'Runner', 'pineapple', 'Vegetable']})\n",
    "\n",
    "df3"
   ]
  },
  {
   "cell_type": "markdown",
   "metadata": {},
   "source": [
    "# Bonus Question\n",
    "\n",
    "Write a Pandas program that contains data of a student for each column (you can create as many as you think are necessary). Make sure to display the default index and set a column as an Index in the dataframe. Output only one of the columns of your choice and change its datatype. "
   ]
  }
 ],
 "metadata": {
  "interpreter": {
   "hash": "8c531bcfcb6e408b14c9f8aff8cb518f6c2c6cfbb6bbec98d36263e6de29481f"
  },
  "kernelspec": {
   "display_name": "Python 3.10.0 64-bit",
   "name": "python3"
  },
  "language_info": {
   "codemirror_mode": {
    "name": "ipython",
    "version": 3
   },
   "file_extension": ".py",
   "mimetype": "text/x-python",
   "name": "python",
   "nbconvert_exporter": "python",
   "pygments_lexer": "ipython3",
   "version": "3.10.0"
  },
  "orig_nbformat": 4
 },
 "nbformat": 4,
 "nbformat_minor": 2
}
