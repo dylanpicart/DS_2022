{
 "cells": [
  {
   "cell_type": "markdown",
   "metadata": {},
   "source": [
    "<div style=\"background: #000;\n",
    "            color: #FFF;\n",
    "            margin: 0px;\n",
    "                padding: 10px 0px 20px 0px;\n",
    "            text-align: center; \n",
    "                \">\n",
    "    <h1>Week 8 - Lab</h1>\n",
    "</div>\n"
   ]
  },
  {
   "cell_type": "markdown",
   "metadata": {},
   "source": [
    "# Exercise 1\n",
    "\n",
    "Create a class called `Person`.\n",
    "Make an attribute for the class called `x` and set it equal to 5.\n",
    "\n",
    "Create an instance of the `Person` class.\n",
    "Print out the `x` attribute of the instance."
   ]
  },
  {
   "cell_type": "code",
   "execution_count": 6,
   "metadata": {},
   "outputs": [
    {
     "name": "stdout",
     "output_type": "stream",
     "text": [
      "5\n"
     ]
    }
   ],
   "source": [
    "class Person():\n",
    "    def __init__(self):\n",
    "        self._x = 5\n",
    "\n",
    "p1 = Person()\n",
    "print(p1._x)"
   ]
  },
  {
   "cell_type": "markdown",
   "metadata": {},
   "source": [
    "# Excerise 2\n",
    "\n",
    "Create a class called `Student` with  the following attributes \n",
    "<br>`first_name`\n",
    "<br>`last_name`\n",
    "<br>`age`\n",
    "<br>`hw_grades` \n",
    "# `THINK ABOUT WHAT DATA STRUCTURE WE SHOULD BE USING FOR HW GRADES`\n",
    "# `THINK ABOUT THE DATA STRUCTURES WE KNOW. WHAT SEEMS APPROPRIATE? LISTS, DICTS, TUPLES OR SETS?`\n",
    "\n",
    "Create methods that:\n",
    "<br>Print the full name of the student\n",
    "<br>Adds a grade to the attribute `hw_grades` \n",
    "<br>Calculates the Student's average hw grade\n",
    "\n",
    "Create an instance of the class and ensure that all the methods works."
   ]
  },
  {
   "cell_type": "code",
   "execution_count": null,
   "metadata": {},
   "outputs": [],
   "source": [
    "List"
   ]
  },
  {
   "cell_type": "code",
   "execution_count": 26,
   "metadata": {},
   "outputs": [],
   "source": [
    "class Student():\n",
    "    def __init__(self, first_name, last_name, age, hw_grades):\n",
    "        self.first_name = first_name\n",
    "        self.last_name = last_name\n",
    "        self.age = age\n",
    "        self.hw_grades = hw_grades\n",
    "           \n",
    "    def full_name(self):\n",
    "        print(self.first_name, self.last_name)\n",
    "        \n",
    "    def add_hw_grade(self, grade):\n",
    "        self.grade = grade\n",
    "        if self.grade < 0 or self.grade > 100:\n",
    "            raise ValueError(\"Invalid Input\")\n",
    "        self.hw_grades.append(self.grade)\n",
    "        return self.hw_grades\n",
    "    \n",
    "    def avg_hw_grade(self):\n",
    "        total = sum(self.hw_grades)/ len(self.hw_grades)\n",
    "        return f\"This student's homework average is {total}.\"   "
   ]
  },
  {
   "cell_type": "code",
   "execution_count": 27,
   "metadata": {},
   "outputs": [
    {
     "name": "stdout",
     "output_type": "stream",
     "text": [
      "Dylan Picart\n"
     ]
    },
    {
     "data": {
      "text/plain": [
       "\"This student's homework average is 87.5.\""
      ]
     },
     "execution_count": 27,
     "metadata": {},
     "output_type": "execute_result"
    }
   ],
   "source": [
    "dylan = Student('Dylan', 'Picart', 25, [85])\n",
    "\n",
    "dylan.full_name()\n",
    "dylan.add_hw_grade(75)\n",
    "dylan.add_hw_grade(90)\n",
    "dylan.add_hw_grade(100)\n",
    "dylan.avg_hw_grade()"
   ]
  },
  {
   "cell_type": "markdown",
   "metadata": {},
   "source": [
    "# Exercise 3:\n",
    "Create a class called `Square` that overloads the addition operator by adding the area of two squares. You will need at least an attribute for length, a method for calculating area and the overloaded + operator method.\n",
    "\n",
    "e.g. Square(3) + Square(4) == 25"
   ]
  },
  {
   "cell_type": "code",
   "execution_count": 45,
   "metadata": {},
   "outputs": [],
   "source": [
    "# Overload the addition operator\n",
    "\n",
    "class Square():\n",
    "    def __init__(self, length):\n",
    "        self.length = length\n",
    "        \n",
    "    \"\"\"def type_length(self):\n",
    "        isinstance(self.length, int)\n",
    "        return isinstance(self.length, int)\"\"\"\n",
    "\n",
    "        \n",
    "    def area(self):\n",
    "        if isinstance(self.length, int)!= True:\n",
    "            raise TypeError(\"Invalid Input\")\n",
    "        a = self.length * self.length\n",
    "        return f'The area of the square is {a}.'\n",
    "    \n",
    "    def __add__(self, other):\n",
    "        length = self.length + other.length\n",
    "        return Square(length)"
   ]
  },
  {
   "cell_type": "code",
   "execution_count": 48,
   "metadata": {},
   "outputs": [
    {
     "data": {
      "text/plain": [
       "'The area of the square is 25.'"
      ]
     },
     "execution_count": 48,
     "metadata": {},
     "output_type": "execute_result"
    }
   ],
   "source": [
    "s = Square(5)\n",
    "s.area()"
   ]
  },
  {
   "cell_type": "markdown",
   "metadata": {},
   "source": [
    "\n",
    "# Exercise 4:\n",
    "Create a class called `Store` with an attribute called `inventory` that stores key value pairs which represent a product and its count.\n",
    "<br> `{\"oranges\":100,'apples':20}`\n",
    "\n",
    "Create a `buy` method that decrements from a key's value whenever an item is \"bought\"\n",
    "\n",
    "Create a method that lists the products for sale.\n",
    "<br>Create a method that allows you to add more products to the store's inventory.\n",
    "\n",
    "\n",
    "When you're finished, create an instance of Store and demonstrate that your methods/code work. Bonus points for addtional methods/functionality."
   ]
  },
  {
   "cell_type": "code",
   "execution_count": 61,
   "metadata": {},
   "outputs": [],
   "source": [
    "class Store():\n",
    "    def __init__(self, inventory):\n",
    "        self.inventory = inventory\n",
    "        \n",
    "    def buy(self, product, quantity):\n",
    "        self.product = product\n",
    "        self.quantity = quantity\n",
    "        if self.product in self.inventory:\n",
    "            if self.quantity >= 0:\n",
    "                self.inventory[self.product] -= self.quantity\n",
    "        return self.inventory\n",
    "        \n",
    "          \n",
    "    def products_for_sale(self):\n",
    "        print(f\"Here's what's for sale: {self.product}\")\n",
    "        \n",
    "      \n",
    "    def add_to_inventory(self, product, quantity):\n",
    "        self.product = product\n",
    "        self.quantity = quantity\n",
    "        self.inventory[product] = self.quantity\n",
    "        return self.inventory\n",
    "       "
   ]
  },
  {
   "cell_type": "code",
   "execution_count": 62,
   "metadata": {},
   "outputs": [
    {
     "name": "stdout",
     "output_type": "stream",
     "text": [
      "Here's what's for sale: Apples\n"
     ]
    },
    {
     "data": {
      "text/plain": [
       "{'Apples': 100, 'Oranges': 100}"
      ]
     },
     "execution_count": 62,
     "metadata": {},
     "output_type": "execute_result"
    }
   ],
   "source": [
    "p = Store({'Apples': 20, 'Oranges': 100})\n",
    "\n",
    "p.buy('Apples', 10)\n",
    "p.products_for_sale()\n",
    "p.add_to_inventory('Apples', 100)"
   ]
  },
  {
   "cell_type": "code",
   "execution_count": null,
   "metadata": {},
   "outputs": [],
   "source": []
  }
 ],
 "metadata": {
  "interpreter": {
   "hash": "8c531bcfcb6e408b14c9f8aff8cb518f6c2c6cfbb6bbec98d36263e6de29481f"
  },
  "kernelspec": {
   "display_name": "Python 3.10.0 64-bit",
   "name": "python3"
  },
  "language_info": {
   "codemirror_mode": {
    "name": "ipython",
    "version": 3
   },
   "file_extension": ".py",
   "mimetype": "text/x-python",
   "name": "python",
   "nbconvert_exporter": "python",
   "pygments_lexer": "ipython3",
   "version": "3.10.0"
  }
 },
 "nbformat": 4,
 "nbformat_minor": 4
}
