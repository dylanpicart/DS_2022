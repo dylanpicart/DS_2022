{
 "cells": [
  {
   "cell_type": "markdown",
   "metadata": {},
   "source": [
    "## What is a class?\n",
    "\n",
    "It's a set of instructions how we tell Python to build our object\n",
    "\n",
    "Objects: Attributes, methods - functions that our class should be able to run, data"
   ]
  },
  {
   "cell_type": "code",
   "execution_count": 1,
   "metadata": {},
   "outputs": [
    {
     "data": {
      "text/plain": [
       "5"
      ]
     },
     "execution_count": 1,
     "metadata": {},
     "output_type": "execute_result"
    }
   ],
   "source": [
    "class MyClass():\n",
    "    x = 5\n",
    "    \n",
    "var = MyClass()\n",
    "print(var.x)\n",
    "\n",
    "# Create instance of a class\n"
   ]
  },
  {
   "cell_type": "code",
   "execution_count": 2,
   "metadata": {},
   "outputs": [
    {
     "name": "stdout",
     "output_type": "stream",
     "text": [
      "Apple\n"
     ]
    }
   ],
   "source": [
    "# We want to tell Python what to expect\n",
    "\n",
    "class Food():\n",
    "    # When we create our new object, store our data in this new object\n",
    "    # When we create our new instance of food, save this data into food object\n",
    "    # self = ‘the object itself’ - we are storing the data into itself\n",
    "    def __init__(self, name, count):\n",
    "        self.name = name # Food.name = name that user puts in\n",
    "        # Python will expect the parameter 'name'\n",
    "        self.count = count\n",
    "        \n",
    "var1 = Food('Apple', 100)\n",
    "\n",
    "print(var1.name)"
   ]
  },
  {
   "cell_type": "code",
   "execution_count": 8,
   "metadata": {},
   "outputs": [],
   "source": [
    "class Person():\n",
    "    def __init__(self, name, age):\n",
    "        self.name = name\n",
    "        self.age = age\n",
    "    \n",
    "    def print_my_name(self):\n",
    "        print(self.name) # within the object\n",
    "\n",
    "class Adult(Person):\n",
    "    def __init__(self, name, age, job):\n",
    "        # super literally translates to our Person class\n",
    "        super().__init__(name, age) # make all methods available in (Base) Person class available to (Child) Adult\n",
    "        self.job = job\n",
    "        \n",
    "class Child(Person):\n",
    "    def __init__(self, name, age, school_attended):\n",
    "        super().__init__(name, age) \n",
    "        self.school_attended = school_attended\n",
    "        \n",
    "        \n"
   ]
  },
  {
   "cell_type": "code",
   "execution_count": 12,
   "metadata": {},
   "outputs": [
    {
     "name": "stdout",
     "output_type": "stream",
     "text": [
      "Dylan\n",
      "Data Scientist\n",
      "Sewanhaka\n"
     ]
    }
   ],
   "source": [
    "person1 = Person('Dylan', 25)\n",
    "person1.print_my_name()\n",
    "\n",
    "person2 = Adult('Axl', 22, 'Data Scientist')\n",
    "print(person2.job)\n",
    "person3 = Child('Billy', 14, 'Sewanhaka')\n",
    "print(person3.school_attended)"
   ]
  },
  {
   "cell_type": "code",
   "execution_count": 30,
   "metadata": {},
   "outputs": [
    {
     "name": "stdout",
     "output_type": "stream",
     "text": [
      "1 2\n"
     ]
    }
   ],
   "source": [
    "class Point():\n",
    "    def __init__(self, x=0, y=0): #if you don't pass value x/y, default value is 0\n",
    "        self.x = x\n",
    "        self.y = y\n",
    "        \n",
    "    def __add__(self, other): # Overload an operator - change the way Python adds objects\n",
    "        x = self.x + other.x\n",
    "        y = self.y + other.y  \n",
    "        return Point(x, y)   \n",
    "    \n",
    "    #Python can only print strings - let's override this limit\n",
    "    def __str__(self):\n",
    "        return '({0},{1})'.format(self.x,self.y)\n",
    "    \n",
    "    def __sub__(self, other):\n",
    "        x = self.x - other.x\n",
    "        y = self.y - other.y\n",
    "        return Point(x, y)   \n",
    "\n",
    "        \n",
    "    #def __repr__(self): # overriding Python function\n",
    "        #print(f'{self.x},{self.y}')\n",
    "        \n",
    "p1 = Point(1, 2)\n",
    "print(p1.x, p1.y)\n",
    "        "
   ]
  },
  {
   "cell_type": "code",
   "execution_count": 31,
   "metadata": {},
   "outputs": [
    {
     "name": "stdout",
     "output_type": "stream",
     "text": [
      "3 4\n"
     ]
    }
   ],
   "source": [
    "p2 = Point(3, 4)\n",
    "print(p2.x, p2.y)"
   ]
  },
  {
   "cell_type": "code",
   "execution_count": 32,
   "metadata": {},
   "outputs": [
    {
     "name": "stdout",
     "output_type": "stream",
     "text": [
      "(4,6)\n"
     ]
    }
   ],
   "source": [
    "# Operator overloading\n",
    "print(p1 + p2)"
   ]
  },
  {
   "cell_type": "code",
   "execution_count": 33,
   "metadata": {},
   "outputs": [
    {
     "name": "stdout",
     "output_type": "stream",
     "text": [
      "(4,4)\n"
     ]
    }
   ],
   "source": [
    "p3 = Point(5, 5)\n",
    "p4 = Point(1,1)\n",
    "# Doesn't know how to subtract two points, only int, so override\n",
    "print(p3-p4)"
   ]
  },
  {
   "cell_type": "markdown",
   "metadata": {},
   "source": [
    "## Setters & getters"
   ]
  },
  {
   "cell_type": "code",
   "execution_count": 42,
   "metadata": {},
   "outputs": [
    {
     "name": "stdout",
     "output_type": "stream",
     "text": [
      "orange\n"
     ]
    }
   ],
   "source": [
    "class Tangerine():\n",
    "    def __init__(self, count):\n",
    "        self.count = count\n",
    "        self._color = 'orange' # set attribute = orange - don't want user to input\n",
    "        \n",
    "        # we want our user to ask what color our tangerine is\n",
    "        #we use private variables: _color\n",
    "        # setters & getters\n",
    "        @property # create a property for Tangerine\n",
    "        def color(self):\n",
    "            # This will be equal to this private variable\n",
    "            return self._color\n",
    "        \n",
    "        # What if we want users to set\n",
    "        # allows us to raise errors if users put in something we don't think should be allowed\n",
    "        @color.setter\n",
    "        def color(self, new_color):\n",
    "            # any color except red\n",
    "            if(new_color == 'red'):\n",
    "                pass\n",
    "            else:\n",
    "                self._color = new_color\n",
    "        \n",
    "fruit1 = Tangerine(10)\n",
    "print(fruit1._color)\n",
    "\n"
   ]
  },
  {
   "cell_type": "code",
   "execution_count": null,
   "metadata": {},
   "outputs": [],
   "source": [
    "# we can add anywhere\n",
    "list [10, 20, 'milk', 'waffles', 30, 40, 50, 500, 'asdsa']\n",
    "\n",
    "# When we need to be certain about the order of things (last in first out)\n",
    "queue [10, 20, 30, 40, 50, 500, 'asdsa', 'oatmilk', 'cereal']\n",
    "\n",
    "queue [10, 20, 30, 40, 50].pop(1)   queue = [10, 20, 30, 40]"
   ]
  },
  {
   "cell_type": "code",
   "execution_count": null,
   "metadata": {},
   "outputs": [],
   "source": [
    "class Person:\n",
    "    def __init__(self):"
   ]
  }
 ],
 "metadata": {
  "interpreter": {
   "hash": "8c531bcfcb6e408b14c9f8aff8cb518f6c2c6cfbb6bbec98d36263e6de29481f"
  },
  "kernelspec": {
   "display_name": "Python 3.10.0 64-bit",
   "name": "python3"
  },
  "language_info": {
   "codemirror_mode": {
    "name": "ipython",
    "version": 3
   },
   "file_extension": ".py",
   "mimetype": "text/x-python",
   "name": "python",
   "nbconvert_exporter": "python",
   "pygments_lexer": "ipython3",
   "version": "3.10.0"
  },
  "orig_nbformat": 4
 },
 "nbformat": 4,
 "nbformat_minor": 2
}
