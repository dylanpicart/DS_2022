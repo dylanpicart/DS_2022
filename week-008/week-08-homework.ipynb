{
 "cells": [
  {
   "cell_type": "markdown",
   "metadata": {},
   "source": [
    "<div style=\"background: #000;\n",
    "            color: #FFF;\n",
    "            margin: 0px;\n",
    "                padding: 10px 0px 20px 0px;\n",
    "            text-align: center; \n",
    "                \">\n",
    "    <h1>Week 8 - Homework</h1>\n",
    "</div>\n",
    "\n",
    "<pre style=\"text-align:center;\">\n",
    "Exercise 1,2 and 3 are due Tuesday Novemeber 9th\n",
    "</pre>"
   ]
  },
  {
   "cell_type": "markdown",
   "metadata": {},
   "source": [
    "# Exercise 1\n",
    "\n",
    "Create a class called `Person`.\n",
    "\n",
    "Then create two classes, one called `Child` and one called `Adult` that inherit from the Person Class.  \n",
    "\n",
    "These methods should be available to all classes. \n",
    "<br>`print_age`\n",
    "<br>`print_name`\n",
    "\n",
    "\n",
    "\n",
    "These methods should only be available to the `Child` Class\n",
    "<br>`age_until_adult`\n",
    "<br>`current_school`\n",
    "\n",
    "\n",
    "\n",
    "\n",
    "\n",
    "These methods should only be available to the `Adult Class`\n",
    "<br>`age_until_senior`\n",
    "<br>`current_job`\n",
    "\n",
    "\n",
    "Create an instance of all 3 classes, and prove that all functions work for every class"
   ]
  },
  {
   "cell_type": "code",
   "execution_count": 21,
   "metadata": {},
   "outputs": [],
   "source": [
    "class Person():\n",
    "    def __init__(self, name, age):\n",
    "        self.name = name\n",
    "        self.age = int(age)\n",
    "        \n",
    "    def print_age(self):\n",
    "        print(self.age)\n",
    "        \n",
    "    def print_name(self):\n",
    "        print(self.name)\n",
    "        \n",
    "class Child(Person):\n",
    "    def __init__(self, name, age, school):\n",
    "        super().__init__(name, age)\n",
    "        self.school = school\n",
    "        \n",
    "    def age_until_adult(self):\n",
    "        aa = 18 - self.age\n",
    "        print(f'{self.name} will become an adult in {aa} year(s)!')\n",
    "        \n",
    "    def current_school(self):\n",
    "        print(self.school)\n",
    "        \n",
    "        \n",
    "class Adult(Person):\n",
    "    def __init__(self, name, age, job):\n",
    "        super().__init__(name, age)\n",
    "        self.job = job\n",
    "        \n",
    "    def age_until_senior(self):\n",
    "        sen = 65 - self.age\n",
    "        print(f'{self.name} will become a senior in {sen} year(s)!')\n",
    "        \n",
    "    def current_job(self):\n",
    "        print(self.job)"
   ]
  },
  {
   "cell_type": "code",
   "execution_count": 16,
   "metadata": {},
   "outputs": [
    {
     "name": "stdout",
     "output_type": "stream",
     "text": [
      "33\n",
      "Mark\n"
     ]
    }
   ],
   "source": [
    "mark = Person('Mark', 33)\n",
    "mark.print_age()\n",
    "mark.print_name()\n"
   ]
  },
  {
   "cell_type": "code",
   "execution_count": 23,
   "metadata": {},
   "outputs": [
    {
     "name": "stdout",
     "output_type": "stream",
     "text": [
      "25\n",
      "Dylan\n",
      "Dylan will become a senior in 40 year(s)!\n",
      "Data Scientist\n"
     ]
    }
   ],
   "source": [
    "dylan = Adult('Dylan', 25, 'Data Scientist')\n",
    "dylan.print_age()\n",
    "dylan.print_name()\n",
    "dylan.age_until_senior()\n",
    "dylan.current_job()"
   ]
  },
  {
   "cell_type": "code",
   "execution_count": 24,
   "metadata": {},
   "outputs": [
    {
     "name": "stdout",
     "output_type": "stream",
     "text": [
      "15\n",
      "April\n",
      "April will become an adult in 3 year(s)!\n",
      "Carey High School\n"
     ]
    }
   ],
   "source": [
    "april = Child('April', 15, 'Carey High School')\n",
    "april.print_age()\n",
    "april.print_name()\n",
    "april.age_until_adult()\n",
    "april.current_school()"
   ]
  },
  {
   "cell_type": "markdown",
   "metadata": {},
   "source": [
    "# Exercise 2\n",
    "\n",
    "Create a class called `Animal`.\n",
    "\n",
    "It should have the following attributes:\n",
    "<br>\n",
    "<br>`name` which is a string that contains its name\n",
    "<br>`has_hair` which is a bool\n",
    "<br>`has_feathers` which is a bool\n",
    "<br>`age` which is an integer\n",
    "<br>`diet` which is a string containing a food that it's diet. Either Grain or Pellets.\n",
    "\n",
    "____________\n",
    "Animals should have the following functions available to them\n",
    "\n",
    "`description` which prints out its name and age in a line.\n",
    "____________\n",
    "\n",
    "Create two classes that inherit from `Animal`.\n",
    "\n",
    "`Cow` and `Chicken`. Chickens eat pellets, Cows eat Grain. \n",
    "____________\n",
    "\n",
    "Cows should have the following attribute\n",
    "\n",
    "`times_milked` which is starts at 0\n",
    "\n",
    "Cows should have the functions\n",
    "\n",
    "`milk` which increases the times_milked by 1. Cows under 1 year old cannot be milked.\n",
    "\n",
    "____________\n",
    "Chickens should have the attribute\n",
    "\n",
    "`eggs_laid` which is starts at 0\n",
    "\n",
    "Chickens should have the function \n",
    "\n",
    "`lay_egg` which increases egg_laid by 5. Chickens under 6 months cannot lay eggs.\n",
    "\n",
    "____________\n",
    "\n"
   ]
  },
  {
   "cell_type": "code",
   "execution_count": 10,
   "metadata": {},
   "outputs": [],
   "source": [
    "class Animal():\n",
    "    def __init__(self,name,has_hair,has_feathers,age, diet):\n",
    "        self.name = name\n",
    "        self.has_hair = bool(has_hair)\n",
    "        self.has_feathers = bool(has_feathers)\n",
    "        self.age = int(age)\n",
    "        self.diet = diet\n",
    "        \n",
    "    def description(self):\n",
    "        print(f'{self.name} is {self.age}')\n",
    "        \n",
    "class Chicken(Animal):\n",
    "    def __init__(self, name, has_hair, has_feathers, age, diet='Pellets', eggs_laid=0):\n",
    "        super().__init__(name, has_hair, has_feathers, age, diet)\n",
    "        self.eggs_laid = eggs_laid\n",
    "        \n",
    "    def lay_eggs(self):\n",
    "        if self.age < 0.5:\n",
    "            print(f'This chicken is too young to lay eggs.')\n",
    "        else:\n",
    "            self.eggs_laid += 1\n",
    "        \n",
    "class Cow(Animal):\n",
    "    def __init__(self, name, has_hair, has_feathers, age, diet='Grain', times_milked=0):\n",
    "        super().__init__(name, has_hair, has_feathers, age, diet)\n",
    "        self.times_milked = times_milked\n",
    "        \n",
    "    def milk(self):\n",
    "        if self.age < 1:\n",
    "            print(f'This cow is too young to be milked.')\n",
    "        else:\n",
    "            self.times_milked += 1"
   ]
  },
  {
   "cell_type": "code",
   "execution_count": 12,
   "metadata": {},
   "outputs": [],
   "source": [
    "carl = Cow('Carl', True, False, 2, 'Grain', 0)\n",
    "cluck = Chicken('Clark', False, True, 3, 'Pellets', 0)\n",
    "\n",
    "cluck.lay_eggs()\n",
    "carl.milk()"
   ]
  },
  {
   "cell_type": "markdown",
   "metadata": {},
   "source": [
    "# Exercise 3\n",
    "\n",
    "Create a class called `Car`.\n",
    "\n",
    "It should contain a private attribute called `fuel`. Fuel `ALWAYS` starts at 50.\n",
    "\n",
    "Use setter and getter functions to protect our attribute. When a user tries to change `fuel`, it should raise a ValueError if Fuel is < 0 or > 100\n",
    "\n"
   ]
  },
  {
   "cell_type": "code",
   "execution_count": 26,
   "metadata": {},
   "outputs": [],
   "source": [
    "class Car():\n",
    "    def __init__(self, name, color):\n",
    "        self.name = name\n",
    "        self.color = color\n",
    "        self._fuel = 50\n",
    "        \n",
    "    @property\n",
    "    def fuel(self):\n",
    "        return self._fuel\n",
    "    \n",
    "    @fuel.setter\n",
    "    def set_fuel(self, change_fuel):\n",
    "        if change_fuel < 0 or change_fuel > 100:\n",
    "            raise ValueError(\"Cannot set fuel below 0 or above 100.\")\n",
    "        else:\n",
    "            self._fuel = change_fuel"
   ]
  },
  {
   "cell_type": "markdown",
   "metadata": {},
   "source": [
    "# Question 1\n",
    "\n",
    "What is a class?\n",
    "\n",
    "A class is a data structure that stores objects, such as attributes and functions."
   ]
  },
  {
   "cell_type": "markdown",
   "metadata": {},
   "source": [
    "# Question 2\n",
    "\n",
    "<br>What is a the difference between a Parent Class and a Child Class?\n",
    "\n",
    "\n",
    "A parent class, you could think of as the original class, or the class that the child class will inherit from. You could think of it as the over arching class, where child classes will inherit from."
   ]
  },
  {
   "cell_type": "markdown",
   "metadata": {},
   "source": [
    "# Question 3\n",
    "How does inheritance help us as programmers?\n",
    "\n",
    "Inheritance helps us streamline the process of defining repetitive attributes. Within a child class we can define attributes and functions that are specifically needed for the child class but isn't needed for all classes, whether parent or child."
   ]
  }
 ],
 "metadata": {
  "interpreter": {
   "hash": "8c531bcfcb6e408b14c9f8aff8cb518f6c2c6cfbb6bbec98d36263e6de29481f"
  },
  "kernelspec": {
   "display_name": "Python 3.10.0 64-bit",
   "name": "python3"
  },
  "language_info": {
   "codemirror_mode": {
    "name": "ipython",
    "version": 3
   },
   "file_extension": ".py",
   "mimetype": "text/x-python",
   "name": "python",
   "nbconvert_exporter": "python",
   "pygments_lexer": "ipython3",
   "version": "3.10.0"
  }
 },
 "nbformat": 4,
 "nbformat_minor": 4
}
